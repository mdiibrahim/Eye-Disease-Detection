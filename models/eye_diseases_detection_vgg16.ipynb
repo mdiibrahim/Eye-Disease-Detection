{
  "nbformat": 4,
  "nbformat_minor": 0,
  "metadata": {
    "colab": {
      "provenance": [],
      "gpuType": "T4"
    },
    "kernelspec": {
      "name": "python3",
      "display_name": "Python 3"
    },
    "language_info": {
      "name": "python"
    },
    "accelerator": "GPU"
  },
  "cells": [
    {
      "cell_type": "markdown",
      "source": [
        "# 👀 Eye Disease Detection Using VGG16 & Deep Learning"
      ],
      "metadata": {
        "id": "nfmelNohsVHj"
      }
    },
    {
      "cell_type": "markdown",
      "source": [
        "🔍 Project Overview:\n",
        "\n",
        "This project aims to build a deep learning model that can accurately classify eye images into five categories:\n",
        "\n",
        "* Cataract\n",
        "\n",
        "* Diabetic Retinopathy\n",
        "\n",
        "* Glaucoma\n",
        "\n",
        "* Normal\n",
        "\n",
        "* Unknown (for unrelated random images)\n",
        "\n",
        "We use transfer learning with the pre-trained VGG16 model, a powerful convolutional neural network originally trained on ImageNet. The model is fine-tuned and extended with custom layers to adapt it to the eye disease classification task.\n",
        "\n",
        "\n",
        "📦 Key Features:\n",
        "* ✅ Dataset Preparation: Retina disease images and random unrelated images are loaded from KaggleHub and organized into class folders.\n",
        "\n",
        "* ✅ Data Augmentation: Applied to improve generalization using rotation, zoom, brightness, and flips.\n",
        "\n",
        "* ✅ Transfer Learning: Used VGG16 as a base model to leverage powerful pre-learned features.\n",
        "\n",
        "* ✅ Custom Classifier Head: Added fully connected layers on top of VGG16 for classification into 5 categories.\n",
        "\n",
        "* ✅ Class Balancing: Automatically computed class weights to handle imbalanced data.\n",
        "\n",
        "* ✅ Model Training: Fine-tuned with early stopping and learning rate adjustment callbacks.\n",
        "\n",
        "* ✅ Evaluation: Includes classification report, confusion matrix, confidence histograms, and low-confidence analysis.\n",
        "\n",
        "* ✅ Model Saving: Final model saved in .h5 format for reuse in Flask or any web app deployment.\n",
        "\n",
        "* ✅ Download Option: Easily download the trained model from Google Colab to your local machine.\n",
        "\n",
        "**🚀 Deployment-Ready:**\n",
        "\n",
        "The trained model (eye_disease_model.h5) is ready to be integrated into a Flask web application for real-time predictions, allowing users to upload eye images and get instant results."
      ],
      "metadata": {
        "id": "zPR8Xq4fspcr"
      }
    },
    {
      "cell_type": "markdown",
      "source": [
        "# 🧩 Importing Required Libraries\n",
        "\n"
      ],
      "metadata": {
        "id": "rxSVIVvy-GoN"
      }
    },
    {
      "cell_type": "markdown",
      "source": [
        "This block imports all the essential Python libraries needed for data handling, visualization, machine learning, and building a deep learning model using the VGG16 architecture."
      ],
      "metadata": {
        "id": "eOSesyT2rfBc"
      }
    },
    {
      "cell_type": "code",
      "source": [
        "import os  # For interacting with the operating system (e.g., file paths)\n",
        "import shutil  # For high-level file operations like copying or deleting directories\n",
        "\n",
        "import numpy as np  # For numerical computations and handling arrays\n",
        "import logging  # To log messages for debugging and monitoring\n",
        "\n",
        "import matplotlib.pyplot as plt  # For plotting graphs and displaying images\n",
        "import seaborn as sns  # For enhanced, beautiful statistical visualizations\n",
        "\n",
        "import tensorflow as tf  # TensorFlow library for building deep learning models\n",
        "\n",
        "from sklearn.metrics import classification_report, confusion_matrix\n",
        "# To evaluate model performance by showing precision, recall, F1-score, and confusion matrix\n",
        "\n",
        "from sklearn.utils.class_weight import compute_class_weight\n",
        "# To compute weights for each class to handle imbalanced datasets\n",
        "\n",
        "from tensorflow.keras.preprocessing.image import ImageDataGenerator\n",
        "# For generating batches of augmented image data (used during training)\n",
        "\n",
        "from tensorflow.keras.applications import VGG16\n",
        "# To import the pre-trained VGG16 model for transfer learning\n",
        "\n",
        "from tensorflow.keras.layers import Dense, Dropout, GlobalAveragePooling2D\n",
        "# Layers used to construct the final classification model\n",
        "\n",
        "from tensorflow.keras.models import Model\n",
        "# To create a complete model by combining layers\n",
        "\n",
        "from tensorflow.keras.callbacks import EarlyStopping, ReduceLROnPlateau\n",
        "# To stop training early if validation doesn't improve and to reduce learning rate on plateau\n",
        "\n",
        "import kagglehub  # For downloading models or datasets hosted on KaggleHub\n"
      ],
      "metadata": {
        "id": "uTFX5Vl8-N7D"
      },
      "execution_count": null,
      "outputs": []
    },
    {
      "cell_type": "markdown",
      "source": [
        "# 📁 Downloading and Preparing the Dataset\n",
        "\n"
      ],
      "metadata": {
        "id": "01ji2Yev-QXD"
      }
    },
    {
      "cell_type": "markdown",
      "source": [
        "This section performs five key tasks:\n",
        "\n",
        "1. Sets up logging to track progress.\n",
        "\n",
        "2. Downloads the retina dataset from KaggleHub.\n",
        "\n",
        "3. Copies the dataset to a writable location.\n",
        "\n",
        "4. Downloads a random image collection to simulate unknown data.\n",
        "\n",
        "5. Prepares an Unknown folder with up to 1000 random images (used later for testing the model's generalization ability)."
      ],
      "metadata": {
        "id": "Xw7Xnd5Nrj-b"
      }
    },
    {
      "cell_type": "code",
      "source": [
        "logging.basicConfig(level=logging.INFO)  # Set logging level to INFO so we can track progress with log messages\n",
        "\n",
        "# ✅ Step 1: Download the retina disease dataset from KaggleHub\n",
        "retina_path = kagglehub.dataset_download(\"gunavenkatdoddi/eye-diseases-classification\")\n",
        "input_data_path = os.path.join(retina_path, \"dataset\")  # Define the path to the 'dataset' directory inside the downloaded data\n",
        "\n",
        "# ✅ Step 2: Copy the dataset to a writable directory in the current environment\n",
        "DATASET_PATH = \"/kaggle/working/dataset\"\n",
        "shutil.copytree(input_data_path, DATASET_PATH, dirs_exist_ok=True)  # Copy everything from input_data_path to DATASET_PATH. If folders exist, it's okay.\n",
        "\n",
        "# ✅ Step 3: Download the random image dataset from Unsplash (used as unknown inputs)\n",
        "unsplash_path = kagglehub.dataset_download(\"lprdosmil/unsplash-random-images-collection\")\n",
        "UNSPLASH_SOURCE = os.path.join(unsplash_path, \"unsplash-images-collection\")  # Get the path to the unsplash images\n",
        "\n",
        "# ✅ Step 4: Create a folder named \"Unknown\" in the dataset directory\n",
        "unknown_target = os.path.join(DATASET_PATH, \"Unknown\")\n",
        "os.makedirs(unknown_target, exist_ok=True)  # Create the folder only if it doesn't already exist\n",
        "\n",
        "# ✅ Step 5: Copy up to 1000 random images from Unsplash to the Unknown folder\n",
        "count = 0\n",
        "for fname in os.listdir(UNSPLASH_SOURCE):\n",
        "    if fname.lower().endswith(('.jpg', '.jpeg', '.png')):  # Make sure it's an image file\n",
        "        shutil.copy(\n",
        "            os.path.join(UNSPLASH_SOURCE, fname),               # Source file path\n",
        "            os.path.join(unknown_target, f\"unknown_{count}.jpg\")  # New filename with count\n",
        "        )\n",
        "        count += 1\n",
        "        if count >= 1000:  # Stop after copying 1000 images\n",
        "            break\n",
        "\n",
        "# Log how many images were copied in total\n",
        "logging.info(f\"✅ Copied {count} random images to {unknown_target}\")\n"
      ],
      "metadata": {
        "id": "jGy3XWWa-SUT"
      },
      "execution_count": null,
      "outputs": []
    },
    {
      "cell_type": "markdown",
      "source": [
        "# ⚙️ Defining Configuration Constants\n"
      ],
      "metadata": {
        "id": "O1qYSD8S-Unc"
      }
    },
    {
      "cell_type": "markdown",
      "source": [
        "This block sets up the basic hyperparameters and category labels that will be used throughout the model training and evaluation process. These constants ensure consistency and make it easy to adjust settings like image size, batch size, and class labels."
      ],
      "metadata": {
        "id": "fDh13C6brnlC"
      }
    },
    {
      "cell_type": "code",
      "source": [
        "IMG_SIZE = (224, 224)  # All input images will be resized to 224x224 pixels to match the input size expected by VGG16\n",
        "\n",
        "BATCH_SIZE = 32  # The number of images processed in one training step (affects speed and memory usage)\n",
        "\n",
        "EPOCHS = 30  # The number of times the entire training dataset will be passed through the model\n",
        "\n",
        "CATEGORIES = [\"cataract\", \"diabetic_retinopathy\", \"glaucoma\", \"normal\", \"Unknown\"]  # List of possible classes the model should recognize — \"Unknown\" is for random non-eye images\n"
      ],
      "metadata": {
        "id": "lLCzI0WI-WKz"
      },
      "execution_count": null,
      "outputs": []
    },
    {
      "cell_type": "markdown",
      "source": [
        "# 📊 Creating Image Data Generators (with Augmentation)\n"
      ],
      "metadata": {
        "id": "bKq0mFJr-YC8"
      }
    },
    {
      "cell_type": "markdown",
      "source": [
        "This block prepares the training and validation datasets using ImageDataGenerator, which loads images from folders and applies real-time data augmentation. Augmentation helps prevent overfitting by making the model see slightly modified versions of the same images."
      ],
      "metadata": {
        "id": "17hfMF9xrp_c"
      }
    },
    {
      "cell_type": "code",
      "source": [
        "datagen = ImageDataGenerator(\n",
        "    rescale=1./255,               # Normalize pixel values from [0, 255] to [0, 1]\n",
        "    validation_split=0.2,         # Split 20% of the data for validation\n",
        "    rotation_range=25,            # Randomly rotate images up to 25 degrees\n",
        "    zoom_range=0.25,              # Randomly zoom in up to 25%\n",
        "    width_shift_range=0.15,       # Shift image width-wise up to 15%\n",
        "    height_shift_range=0.15,      # Shift image height-wise up to 15%\n",
        "    horizontal_flip=True,         # Randomly flip images horizontally\n",
        "    brightness_range=[0.7, 1.3]   # Randomly adjust image brightness between 70% and 130%\n",
        ")\n",
        "\n",
        "train_data = datagen.flow_from_directory(\n",
        "    DATASET_PATH,             # Root directory where all the image folders are located\n",
        "    target_size=IMG_SIZE,     # Resize all images to 224x224 pixels\n",
        "    batch_size=BATCH_SIZE,    # Process images in batches of 32\n",
        "    class_mode='categorical', # Labels will be one-hot encoded (used for multi-class classification)\n",
        "    subset='training',        # Use this portion as training data (80%)\n",
        "    shuffle=True              # Shuffle images to ensure randomness\n",
        ")\n",
        "\n",
        "\n",
        "val_data = datagen.flow_from_directory(\n",
        "    DATASET_PATH,             # Same dataset, but using the validation split\n",
        "    target_size=IMG_SIZE,\n",
        "    batch_size=BATCH_SIZE,\n",
        "    class_mode='categorical',\n",
        "    subset='validation',      # Use this portion as validation data (20%)\n",
        "    shuffle=False             # Don't shuffle validation data (optional, for consistent results)\n",
        ")\n",
        "\n",
        "\n",
        "\n",
        "# Print/log which class names were detected and their corresponding index\n",
        "logging.info(f\"Detected classes: {train_data.class_indices}\")\n"
      ],
      "metadata": {
        "colab": {
          "base_uri": "https://localhost:8080/"
        },
        "id": "tN8MSh-A-Zr8",
        "outputId": "9d2a3eb5-7b9e-4e50-de72-61af2ca64d10"
      },
      "execution_count": null,
      "outputs": [
        {
          "output_type": "stream",
          "name": "stdout",
          "text": [
            "Found 4018 images belonging to 5 classes.\n",
            "Found 1001 images belonging to 5 classes.\n"
          ]
        }
      ]
    },
    {
      "cell_type": "markdown",
      "source": [
        "# 🧠 Building and Compiling the VGG16-Based Model\n",
        "\n"
      ],
      "metadata": {
        "id": "x1s7DUMl-cgK"
      }
    },
    {
      "cell_type": "markdown",
      "source": [
        "This block loads a pre-trained VGG16 model (used for feature extraction), adds a custom classification head for your specific task, unfreezes some layers for fine-tuning, and compiles the final model. This is a classic transfer learning approach where we reuse a powerful model trained on ImageNet and adapt it for a new problem."
      ],
      "metadata": {
        "id": "fbmZ8Neersld"
      }
    },
    {
      "cell_type": "code",
      "source": [
        "# Load base VGG16 model without the top (fully connected) layer\n",
        "base_model = VGG16(weights=\"imagenet\", include_top=False, input_shape=(224, 224, 3))\n",
        "# This loads a pre-trained VGG16 model with weights from ImageNet.\n",
        "# We exclude the top layer because we’ll add our own custom classification layers.\n",
        "\n",
        "\n",
        "# 🔓 Unfreeze only the last 10 layers to allow fine-tuning\n",
        "for layer in base_model.layers[:-10]:\n",
        "    layer.trainable = False  # Freeze earlier layers (do not update their weights)\n",
        "for layer in base_model.layers[-10:]:\n",
        "    layer.trainable = True   # Allow training on the last 10 layers\n",
        "# This helps retain learned features while slightly adapting the model to your dataset.\n",
        "\n",
        "\n",
        "# 🧠 Custom classification head (goes on top of VGG16)\n",
        "x = GlobalAveragePooling2D()(base_model.output)  # Reduces each feature map to a single value\n",
        "x = Dense(256, activation='relu')(x)             # Fully connected layer with 256 neurons\n",
        "x = Dropout(0.5)(x)                               # Drop 50% of neurons randomly during training (to prevent overfitting)\n",
        "x = Dense(128, activation='relu')(x)             # Another dense layer with 128 neurons\n",
        "x = Dropout(0.3)(x)                               # Drop 30% this time\n",
        "\n",
        "\n",
        "# 🔚 Output layer: 5 neurons = 5 classes, softmax to give class probabilities\n",
        "output = Dense(5, activation='softmax')(x)\n",
        "\n",
        "\n",
        "# ✅ Combine base and custom head into one model\n",
        "model = Model(inputs=base_model.input, outputs=output)\n",
        "\n",
        "\n",
        "# 🔧 Compile the model with a small learning rate\n",
        "model.compile(\n",
        "    optimizer=tf.keras.optimizers.Adam(1e-5),  # Adam optimizer with a very low learning rate for fine-tuning\n",
        "    loss='categorical_crossentropy',           # Used for multi-class classification\n",
        "    metrics=['accuracy']                       # Track accuracy during training\n",
        ")\n",
        "\n",
        "\n",
        "# 🔍 Print out the model summary to see all layers and parameters\n",
        "model.summary()\n"
      ],
      "metadata": {
        "colab": {
          "base_uri": "https://localhost:8080/",
          "height": 945
        },
        "id": "SH7HR9XL-ewm",
        "outputId": "64e8bd47-5f15-403e-fd85-f4b29a55035e"
      },
      "execution_count": null,
      "outputs": [
        {
          "output_type": "display_data",
          "data": {
            "text/plain": [
              "\u001b[1mModel: \"functional_1\"\u001b[0m\n"
            ],
            "text/html": [
              "<pre style=\"white-space:pre;overflow-x:auto;line-height:normal;font-family:Menlo,'DejaVu Sans Mono',consolas,'Courier New',monospace\"><span style=\"font-weight: bold\">Model: \"functional_1\"</span>\n",
              "</pre>\n"
            ]
          },
          "metadata": {}
        },
        {
          "output_type": "display_data",
          "data": {
            "text/plain": [
              "┏━━━━━━━━━━━━━━━━━━━━━━━━━━━━━━━━━┳━━━━━━━━━━━━━━━━━━━━━━━━┳━━━━━━━━━━━━━━━┓\n",
              "┃\u001b[1m \u001b[0m\u001b[1mLayer (type)                   \u001b[0m\u001b[1m \u001b[0m┃\u001b[1m \u001b[0m\u001b[1mOutput Shape          \u001b[0m\u001b[1m \u001b[0m┃\u001b[1m \u001b[0m\u001b[1m      Param #\u001b[0m\u001b[1m \u001b[0m┃\n",
              "┡━━━━━━━━━━━━━━━━━━━━━━━━━━━━━━━━━╇━━━━━━━━━━━━━━━━━━━━━━━━╇━━━━━━━━━━━━━━━┩\n",
              "│ input_layer_1 (\u001b[38;5;33mInputLayer\u001b[0m)      │ (\u001b[38;5;45mNone\u001b[0m, \u001b[38;5;34m224\u001b[0m, \u001b[38;5;34m224\u001b[0m, \u001b[38;5;34m3\u001b[0m)    │             \u001b[38;5;34m0\u001b[0m │\n",
              "├─────────────────────────────────┼────────────────────────┼───────────────┤\n",
              "│ block1_conv1 (\u001b[38;5;33mConv2D\u001b[0m)           │ (\u001b[38;5;45mNone\u001b[0m, \u001b[38;5;34m224\u001b[0m, \u001b[38;5;34m224\u001b[0m, \u001b[38;5;34m64\u001b[0m)   │         \u001b[38;5;34m1,792\u001b[0m │\n",
              "├─────────────────────────────────┼────────────────────────┼───────────────┤\n",
              "│ block1_conv2 (\u001b[38;5;33mConv2D\u001b[0m)           │ (\u001b[38;5;45mNone\u001b[0m, \u001b[38;5;34m224\u001b[0m, \u001b[38;5;34m224\u001b[0m, \u001b[38;5;34m64\u001b[0m)   │        \u001b[38;5;34m36,928\u001b[0m │\n",
              "├─────────────────────────────────┼────────────────────────┼───────────────┤\n",
              "│ block1_pool (\u001b[38;5;33mMaxPooling2D\u001b[0m)      │ (\u001b[38;5;45mNone\u001b[0m, \u001b[38;5;34m112\u001b[0m, \u001b[38;5;34m112\u001b[0m, \u001b[38;5;34m64\u001b[0m)   │             \u001b[38;5;34m0\u001b[0m │\n",
              "├─────────────────────────────────┼────────────────────────┼───────────────┤\n",
              "│ block2_conv1 (\u001b[38;5;33mConv2D\u001b[0m)           │ (\u001b[38;5;45mNone\u001b[0m, \u001b[38;5;34m112\u001b[0m, \u001b[38;5;34m112\u001b[0m, \u001b[38;5;34m128\u001b[0m)  │        \u001b[38;5;34m73,856\u001b[0m │\n",
              "├─────────────────────────────────┼────────────────────────┼───────────────┤\n",
              "│ block2_conv2 (\u001b[38;5;33mConv2D\u001b[0m)           │ (\u001b[38;5;45mNone\u001b[0m, \u001b[38;5;34m112\u001b[0m, \u001b[38;5;34m112\u001b[0m, \u001b[38;5;34m128\u001b[0m)  │       \u001b[38;5;34m147,584\u001b[0m │\n",
              "├─────────────────────────────────┼────────────────────────┼───────────────┤\n",
              "│ block2_pool (\u001b[38;5;33mMaxPooling2D\u001b[0m)      │ (\u001b[38;5;45mNone\u001b[0m, \u001b[38;5;34m56\u001b[0m, \u001b[38;5;34m56\u001b[0m, \u001b[38;5;34m128\u001b[0m)    │             \u001b[38;5;34m0\u001b[0m │\n",
              "├─────────────────────────────────┼────────────────────────┼───────────────┤\n",
              "│ block3_conv1 (\u001b[38;5;33mConv2D\u001b[0m)           │ (\u001b[38;5;45mNone\u001b[0m, \u001b[38;5;34m56\u001b[0m, \u001b[38;5;34m56\u001b[0m, \u001b[38;5;34m256\u001b[0m)    │       \u001b[38;5;34m295,168\u001b[0m │\n",
              "├─────────────────────────────────┼────────────────────────┼───────────────┤\n",
              "│ block3_conv2 (\u001b[38;5;33mConv2D\u001b[0m)           │ (\u001b[38;5;45mNone\u001b[0m, \u001b[38;5;34m56\u001b[0m, \u001b[38;5;34m56\u001b[0m, \u001b[38;5;34m256\u001b[0m)    │       \u001b[38;5;34m590,080\u001b[0m │\n",
              "├─────────────────────────────────┼────────────────────────┼───────────────┤\n",
              "│ block3_conv3 (\u001b[38;5;33mConv2D\u001b[0m)           │ (\u001b[38;5;45mNone\u001b[0m, \u001b[38;5;34m56\u001b[0m, \u001b[38;5;34m56\u001b[0m, \u001b[38;5;34m256\u001b[0m)    │       \u001b[38;5;34m590,080\u001b[0m │\n",
              "├─────────────────────────────────┼────────────────────────┼───────────────┤\n",
              "│ block3_pool (\u001b[38;5;33mMaxPooling2D\u001b[0m)      │ (\u001b[38;5;45mNone\u001b[0m, \u001b[38;5;34m28\u001b[0m, \u001b[38;5;34m28\u001b[0m, \u001b[38;5;34m256\u001b[0m)    │             \u001b[38;5;34m0\u001b[0m │\n",
              "├─────────────────────────────────┼────────────────────────┼───────────────┤\n",
              "│ block4_conv1 (\u001b[38;5;33mConv2D\u001b[0m)           │ (\u001b[38;5;45mNone\u001b[0m, \u001b[38;5;34m28\u001b[0m, \u001b[38;5;34m28\u001b[0m, \u001b[38;5;34m512\u001b[0m)    │     \u001b[38;5;34m1,180,160\u001b[0m │\n",
              "├─────────────────────────────────┼────────────────────────┼───────────────┤\n",
              "│ block4_conv2 (\u001b[38;5;33mConv2D\u001b[0m)           │ (\u001b[38;5;45mNone\u001b[0m, \u001b[38;5;34m28\u001b[0m, \u001b[38;5;34m28\u001b[0m, \u001b[38;5;34m512\u001b[0m)    │     \u001b[38;5;34m2,359,808\u001b[0m │\n",
              "├─────────────────────────────────┼────────────────────────┼───────────────┤\n",
              "│ block4_conv3 (\u001b[38;5;33mConv2D\u001b[0m)           │ (\u001b[38;5;45mNone\u001b[0m, \u001b[38;5;34m28\u001b[0m, \u001b[38;5;34m28\u001b[0m, \u001b[38;5;34m512\u001b[0m)    │     \u001b[38;5;34m2,359,808\u001b[0m │\n",
              "├─────────────────────────────────┼────────────────────────┼───────────────┤\n",
              "│ block4_pool (\u001b[38;5;33mMaxPooling2D\u001b[0m)      │ (\u001b[38;5;45mNone\u001b[0m, \u001b[38;5;34m14\u001b[0m, \u001b[38;5;34m14\u001b[0m, \u001b[38;5;34m512\u001b[0m)    │             \u001b[38;5;34m0\u001b[0m │\n",
              "├─────────────────────────────────┼────────────────────────┼───────────────┤\n",
              "│ block5_conv1 (\u001b[38;5;33mConv2D\u001b[0m)           │ (\u001b[38;5;45mNone\u001b[0m, \u001b[38;5;34m14\u001b[0m, \u001b[38;5;34m14\u001b[0m, \u001b[38;5;34m512\u001b[0m)    │     \u001b[38;5;34m2,359,808\u001b[0m │\n",
              "├─────────────────────────────────┼────────────────────────┼───────────────┤\n",
              "│ block5_conv2 (\u001b[38;5;33mConv2D\u001b[0m)           │ (\u001b[38;5;45mNone\u001b[0m, \u001b[38;5;34m14\u001b[0m, \u001b[38;5;34m14\u001b[0m, \u001b[38;5;34m512\u001b[0m)    │     \u001b[38;5;34m2,359,808\u001b[0m │\n",
              "├─────────────────────────────────┼────────────────────────┼───────────────┤\n",
              "│ block5_conv3 (\u001b[38;5;33mConv2D\u001b[0m)           │ (\u001b[38;5;45mNone\u001b[0m, \u001b[38;5;34m14\u001b[0m, \u001b[38;5;34m14\u001b[0m, \u001b[38;5;34m512\u001b[0m)    │     \u001b[38;5;34m2,359,808\u001b[0m │\n",
              "├─────────────────────────────────┼────────────────────────┼───────────────┤\n",
              "│ block5_pool (\u001b[38;5;33mMaxPooling2D\u001b[0m)      │ (\u001b[38;5;45mNone\u001b[0m, \u001b[38;5;34m7\u001b[0m, \u001b[38;5;34m7\u001b[0m, \u001b[38;5;34m512\u001b[0m)      │             \u001b[38;5;34m0\u001b[0m │\n",
              "├─────────────────────────────────┼────────────────────────┼───────────────┤\n",
              "│ global_average_pooling2d_1      │ (\u001b[38;5;45mNone\u001b[0m, \u001b[38;5;34m512\u001b[0m)            │             \u001b[38;5;34m0\u001b[0m │\n",
              "│ (\u001b[38;5;33mGlobalAveragePooling2D\u001b[0m)        │                        │               │\n",
              "├─────────────────────────────────┼────────────────────────┼───────────────┤\n",
              "│ dense_3 (\u001b[38;5;33mDense\u001b[0m)                 │ (\u001b[38;5;45mNone\u001b[0m, \u001b[38;5;34m256\u001b[0m)            │       \u001b[38;5;34m131,328\u001b[0m │\n",
              "├─────────────────────────────────┼────────────────────────┼───────────────┤\n",
              "│ dropout_2 (\u001b[38;5;33mDropout\u001b[0m)             │ (\u001b[38;5;45mNone\u001b[0m, \u001b[38;5;34m256\u001b[0m)            │             \u001b[38;5;34m0\u001b[0m │\n",
              "├─────────────────────────────────┼────────────────────────┼───────────────┤\n",
              "│ dense_4 (\u001b[38;5;33mDense\u001b[0m)                 │ (\u001b[38;5;45mNone\u001b[0m, \u001b[38;5;34m128\u001b[0m)            │        \u001b[38;5;34m32,896\u001b[0m │\n",
              "├─────────────────────────────────┼────────────────────────┼───────────────┤\n",
              "│ dropout_3 (\u001b[38;5;33mDropout\u001b[0m)             │ (\u001b[38;5;45mNone\u001b[0m, \u001b[38;5;34m128\u001b[0m)            │             \u001b[38;5;34m0\u001b[0m │\n",
              "├─────────────────────────────────┼────────────────────────┼───────────────┤\n",
              "│ dense_5 (\u001b[38;5;33mDense\u001b[0m)                 │ (\u001b[38;5;45mNone\u001b[0m, \u001b[38;5;34m5\u001b[0m)              │           \u001b[38;5;34m645\u001b[0m │\n",
              "└─────────────────────────────────┴────────────────────────┴───────────────┘\n"
            ],
            "text/html": [
              "<pre style=\"white-space:pre;overflow-x:auto;line-height:normal;font-family:Menlo,'DejaVu Sans Mono',consolas,'Courier New',monospace\">┏━━━━━━━━━━━━━━━━━━━━━━━━━━━━━━━━━┳━━━━━━━━━━━━━━━━━━━━━━━━┳━━━━━━━━━━━━━━━┓\n",
              "┃<span style=\"font-weight: bold\"> Layer (type)                    </span>┃<span style=\"font-weight: bold\"> Output Shape           </span>┃<span style=\"font-weight: bold\">       Param # </span>┃\n",
              "┡━━━━━━━━━━━━━━━━━━━━━━━━━━━━━━━━━╇━━━━━━━━━━━━━━━━━━━━━━━━╇━━━━━━━━━━━━━━━┩\n",
              "│ input_layer_1 (<span style=\"color: #0087ff; text-decoration-color: #0087ff\">InputLayer</span>)      │ (<span style=\"color: #00d7ff; text-decoration-color: #00d7ff\">None</span>, <span style=\"color: #00af00; text-decoration-color: #00af00\">224</span>, <span style=\"color: #00af00; text-decoration-color: #00af00\">224</span>, <span style=\"color: #00af00; text-decoration-color: #00af00\">3</span>)    │             <span style=\"color: #00af00; text-decoration-color: #00af00\">0</span> │\n",
              "├─────────────────────────────────┼────────────────────────┼───────────────┤\n",
              "│ block1_conv1 (<span style=\"color: #0087ff; text-decoration-color: #0087ff\">Conv2D</span>)           │ (<span style=\"color: #00d7ff; text-decoration-color: #00d7ff\">None</span>, <span style=\"color: #00af00; text-decoration-color: #00af00\">224</span>, <span style=\"color: #00af00; text-decoration-color: #00af00\">224</span>, <span style=\"color: #00af00; text-decoration-color: #00af00\">64</span>)   │         <span style=\"color: #00af00; text-decoration-color: #00af00\">1,792</span> │\n",
              "├─────────────────────────────────┼────────────────────────┼───────────────┤\n",
              "│ block1_conv2 (<span style=\"color: #0087ff; text-decoration-color: #0087ff\">Conv2D</span>)           │ (<span style=\"color: #00d7ff; text-decoration-color: #00d7ff\">None</span>, <span style=\"color: #00af00; text-decoration-color: #00af00\">224</span>, <span style=\"color: #00af00; text-decoration-color: #00af00\">224</span>, <span style=\"color: #00af00; text-decoration-color: #00af00\">64</span>)   │        <span style=\"color: #00af00; text-decoration-color: #00af00\">36,928</span> │\n",
              "├─────────────────────────────────┼────────────────────────┼───────────────┤\n",
              "│ block1_pool (<span style=\"color: #0087ff; text-decoration-color: #0087ff\">MaxPooling2D</span>)      │ (<span style=\"color: #00d7ff; text-decoration-color: #00d7ff\">None</span>, <span style=\"color: #00af00; text-decoration-color: #00af00\">112</span>, <span style=\"color: #00af00; text-decoration-color: #00af00\">112</span>, <span style=\"color: #00af00; text-decoration-color: #00af00\">64</span>)   │             <span style=\"color: #00af00; text-decoration-color: #00af00\">0</span> │\n",
              "├─────────────────────────────────┼────────────────────────┼───────────────┤\n",
              "│ block2_conv1 (<span style=\"color: #0087ff; text-decoration-color: #0087ff\">Conv2D</span>)           │ (<span style=\"color: #00d7ff; text-decoration-color: #00d7ff\">None</span>, <span style=\"color: #00af00; text-decoration-color: #00af00\">112</span>, <span style=\"color: #00af00; text-decoration-color: #00af00\">112</span>, <span style=\"color: #00af00; text-decoration-color: #00af00\">128</span>)  │        <span style=\"color: #00af00; text-decoration-color: #00af00\">73,856</span> │\n",
              "├─────────────────────────────────┼────────────────────────┼───────────────┤\n",
              "│ block2_conv2 (<span style=\"color: #0087ff; text-decoration-color: #0087ff\">Conv2D</span>)           │ (<span style=\"color: #00d7ff; text-decoration-color: #00d7ff\">None</span>, <span style=\"color: #00af00; text-decoration-color: #00af00\">112</span>, <span style=\"color: #00af00; text-decoration-color: #00af00\">112</span>, <span style=\"color: #00af00; text-decoration-color: #00af00\">128</span>)  │       <span style=\"color: #00af00; text-decoration-color: #00af00\">147,584</span> │\n",
              "├─────────────────────────────────┼────────────────────────┼───────────────┤\n",
              "│ block2_pool (<span style=\"color: #0087ff; text-decoration-color: #0087ff\">MaxPooling2D</span>)      │ (<span style=\"color: #00d7ff; text-decoration-color: #00d7ff\">None</span>, <span style=\"color: #00af00; text-decoration-color: #00af00\">56</span>, <span style=\"color: #00af00; text-decoration-color: #00af00\">56</span>, <span style=\"color: #00af00; text-decoration-color: #00af00\">128</span>)    │             <span style=\"color: #00af00; text-decoration-color: #00af00\">0</span> │\n",
              "├─────────────────────────────────┼────────────────────────┼───────────────┤\n",
              "│ block3_conv1 (<span style=\"color: #0087ff; text-decoration-color: #0087ff\">Conv2D</span>)           │ (<span style=\"color: #00d7ff; text-decoration-color: #00d7ff\">None</span>, <span style=\"color: #00af00; text-decoration-color: #00af00\">56</span>, <span style=\"color: #00af00; text-decoration-color: #00af00\">56</span>, <span style=\"color: #00af00; text-decoration-color: #00af00\">256</span>)    │       <span style=\"color: #00af00; text-decoration-color: #00af00\">295,168</span> │\n",
              "├─────────────────────────────────┼────────────────────────┼───────────────┤\n",
              "│ block3_conv2 (<span style=\"color: #0087ff; text-decoration-color: #0087ff\">Conv2D</span>)           │ (<span style=\"color: #00d7ff; text-decoration-color: #00d7ff\">None</span>, <span style=\"color: #00af00; text-decoration-color: #00af00\">56</span>, <span style=\"color: #00af00; text-decoration-color: #00af00\">56</span>, <span style=\"color: #00af00; text-decoration-color: #00af00\">256</span>)    │       <span style=\"color: #00af00; text-decoration-color: #00af00\">590,080</span> │\n",
              "├─────────────────────────────────┼────────────────────────┼───────────────┤\n",
              "│ block3_conv3 (<span style=\"color: #0087ff; text-decoration-color: #0087ff\">Conv2D</span>)           │ (<span style=\"color: #00d7ff; text-decoration-color: #00d7ff\">None</span>, <span style=\"color: #00af00; text-decoration-color: #00af00\">56</span>, <span style=\"color: #00af00; text-decoration-color: #00af00\">56</span>, <span style=\"color: #00af00; text-decoration-color: #00af00\">256</span>)    │       <span style=\"color: #00af00; text-decoration-color: #00af00\">590,080</span> │\n",
              "├─────────────────────────────────┼────────────────────────┼───────────────┤\n",
              "│ block3_pool (<span style=\"color: #0087ff; text-decoration-color: #0087ff\">MaxPooling2D</span>)      │ (<span style=\"color: #00d7ff; text-decoration-color: #00d7ff\">None</span>, <span style=\"color: #00af00; text-decoration-color: #00af00\">28</span>, <span style=\"color: #00af00; text-decoration-color: #00af00\">28</span>, <span style=\"color: #00af00; text-decoration-color: #00af00\">256</span>)    │             <span style=\"color: #00af00; text-decoration-color: #00af00\">0</span> │\n",
              "├─────────────────────────────────┼────────────────────────┼───────────────┤\n",
              "│ block4_conv1 (<span style=\"color: #0087ff; text-decoration-color: #0087ff\">Conv2D</span>)           │ (<span style=\"color: #00d7ff; text-decoration-color: #00d7ff\">None</span>, <span style=\"color: #00af00; text-decoration-color: #00af00\">28</span>, <span style=\"color: #00af00; text-decoration-color: #00af00\">28</span>, <span style=\"color: #00af00; text-decoration-color: #00af00\">512</span>)    │     <span style=\"color: #00af00; text-decoration-color: #00af00\">1,180,160</span> │\n",
              "├─────────────────────────────────┼────────────────────────┼───────────────┤\n",
              "│ block4_conv2 (<span style=\"color: #0087ff; text-decoration-color: #0087ff\">Conv2D</span>)           │ (<span style=\"color: #00d7ff; text-decoration-color: #00d7ff\">None</span>, <span style=\"color: #00af00; text-decoration-color: #00af00\">28</span>, <span style=\"color: #00af00; text-decoration-color: #00af00\">28</span>, <span style=\"color: #00af00; text-decoration-color: #00af00\">512</span>)    │     <span style=\"color: #00af00; text-decoration-color: #00af00\">2,359,808</span> │\n",
              "├─────────────────────────────────┼────────────────────────┼───────────────┤\n",
              "│ block4_conv3 (<span style=\"color: #0087ff; text-decoration-color: #0087ff\">Conv2D</span>)           │ (<span style=\"color: #00d7ff; text-decoration-color: #00d7ff\">None</span>, <span style=\"color: #00af00; text-decoration-color: #00af00\">28</span>, <span style=\"color: #00af00; text-decoration-color: #00af00\">28</span>, <span style=\"color: #00af00; text-decoration-color: #00af00\">512</span>)    │     <span style=\"color: #00af00; text-decoration-color: #00af00\">2,359,808</span> │\n",
              "├─────────────────────────────────┼────────────────────────┼───────────────┤\n",
              "│ block4_pool (<span style=\"color: #0087ff; text-decoration-color: #0087ff\">MaxPooling2D</span>)      │ (<span style=\"color: #00d7ff; text-decoration-color: #00d7ff\">None</span>, <span style=\"color: #00af00; text-decoration-color: #00af00\">14</span>, <span style=\"color: #00af00; text-decoration-color: #00af00\">14</span>, <span style=\"color: #00af00; text-decoration-color: #00af00\">512</span>)    │             <span style=\"color: #00af00; text-decoration-color: #00af00\">0</span> │\n",
              "├─────────────────────────────────┼────────────────────────┼───────────────┤\n",
              "│ block5_conv1 (<span style=\"color: #0087ff; text-decoration-color: #0087ff\">Conv2D</span>)           │ (<span style=\"color: #00d7ff; text-decoration-color: #00d7ff\">None</span>, <span style=\"color: #00af00; text-decoration-color: #00af00\">14</span>, <span style=\"color: #00af00; text-decoration-color: #00af00\">14</span>, <span style=\"color: #00af00; text-decoration-color: #00af00\">512</span>)    │     <span style=\"color: #00af00; text-decoration-color: #00af00\">2,359,808</span> │\n",
              "├─────────────────────────────────┼────────────────────────┼───────────────┤\n",
              "│ block5_conv2 (<span style=\"color: #0087ff; text-decoration-color: #0087ff\">Conv2D</span>)           │ (<span style=\"color: #00d7ff; text-decoration-color: #00d7ff\">None</span>, <span style=\"color: #00af00; text-decoration-color: #00af00\">14</span>, <span style=\"color: #00af00; text-decoration-color: #00af00\">14</span>, <span style=\"color: #00af00; text-decoration-color: #00af00\">512</span>)    │     <span style=\"color: #00af00; text-decoration-color: #00af00\">2,359,808</span> │\n",
              "├─────────────────────────────────┼────────────────────────┼───────────────┤\n",
              "│ block5_conv3 (<span style=\"color: #0087ff; text-decoration-color: #0087ff\">Conv2D</span>)           │ (<span style=\"color: #00d7ff; text-decoration-color: #00d7ff\">None</span>, <span style=\"color: #00af00; text-decoration-color: #00af00\">14</span>, <span style=\"color: #00af00; text-decoration-color: #00af00\">14</span>, <span style=\"color: #00af00; text-decoration-color: #00af00\">512</span>)    │     <span style=\"color: #00af00; text-decoration-color: #00af00\">2,359,808</span> │\n",
              "├─────────────────────────────────┼────────────────────────┼───────────────┤\n",
              "│ block5_pool (<span style=\"color: #0087ff; text-decoration-color: #0087ff\">MaxPooling2D</span>)      │ (<span style=\"color: #00d7ff; text-decoration-color: #00d7ff\">None</span>, <span style=\"color: #00af00; text-decoration-color: #00af00\">7</span>, <span style=\"color: #00af00; text-decoration-color: #00af00\">7</span>, <span style=\"color: #00af00; text-decoration-color: #00af00\">512</span>)      │             <span style=\"color: #00af00; text-decoration-color: #00af00\">0</span> │\n",
              "├─────────────────────────────────┼────────────────────────┼───────────────┤\n",
              "│ global_average_pooling2d_1      │ (<span style=\"color: #00d7ff; text-decoration-color: #00d7ff\">None</span>, <span style=\"color: #00af00; text-decoration-color: #00af00\">512</span>)            │             <span style=\"color: #00af00; text-decoration-color: #00af00\">0</span> │\n",
              "│ (<span style=\"color: #0087ff; text-decoration-color: #0087ff\">GlobalAveragePooling2D</span>)        │                        │               │\n",
              "├─────────────────────────────────┼────────────────────────┼───────────────┤\n",
              "│ dense_3 (<span style=\"color: #0087ff; text-decoration-color: #0087ff\">Dense</span>)                 │ (<span style=\"color: #00d7ff; text-decoration-color: #00d7ff\">None</span>, <span style=\"color: #00af00; text-decoration-color: #00af00\">256</span>)            │       <span style=\"color: #00af00; text-decoration-color: #00af00\">131,328</span> │\n",
              "├─────────────────────────────────┼────────────────────────┼───────────────┤\n",
              "│ dropout_2 (<span style=\"color: #0087ff; text-decoration-color: #0087ff\">Dropout</span>)             │ (<span style=\"color: #00d7ff; text-decoration-color: #00d7ff\">None</span>, <span style=\"color: #00af00; text-decoration-color: #00af00\">256</span>)            │             <span style=\"color: #00af00; text-decoration-color: #00af00\">0</span> │\n",
              "├─────────────────────────────────┼────────────────────────┼───────────────┤\n",
              "│ dense_4 (<span style=\"color: #0087ff; text-decoration-color: #0087ff\">Dense</span>)                 │ (<span style=\"color: #00d7ff; text-decoration-color: #00d7ff\">None</span>, <span style=\"color: #00af00; text-decoration-color: #00af00\">128</span>)            │        <span style=\"color: #00af00; text-decoration-color: #00af00\">32,896</span> │\n",
              "├─────────────────────────────────┼────────────────────────┼───────────────┤\n",
              "│ dropout_3 (<span style=\"color: #0087ff; text-decoration-color: #0087ff\">Dropout</span>)             │ (<span style=\"color: #00d7ff; text-decoration-color: #00d7ff\">None</span>, <span style=\"color: #00af00; text-decoration-color: #00af00\">128</span>)            │             <span style=\"color: #00af00; text-decoration-color: #00af00\">0</span> │\n",
              "├─────────────────────────────────┼────────────────────────┼───────────────┤\n",
              "│ dense_5 (<span style=\"color: #0087ff; text-decoration-color: #0087ff\">Dense</span>)                 │ (<span style=\"color: #00d7ff; text-decoration-color: #00d7ff\">None</span>, <span style=\"color: #00af00; text-decoration-color: #00af00\">5</span>)              │           <span style=\"color: #00af00; text-decoration-color: #00af00\">645</span> │\n",
              "└─────────────────────────────────┴────────────────────────┴───────────────┘\n",
              "</pre>\n"
            ]
          },
          "metadata": {}
        },
        {
          "output_type": "display_data",
          "data": {
            "text/plain": [
              "\u001b[1m Total params: \u001b[0m\u001b[38;5;34m14,879,557\u001b[0m (56.76 MB)\n"
            ],
            "text/html": [
              "<pre style=\"white-space:pre;overflow-x:auto;line-height:normal;font-family:Menlo,'DejaVu Sans Mono',consolas,'Courier New',monospace\"><span style=\"font-weight: bold\"> Total params: </span><span style=\"color: #00af00; text-decoration-color: #00af00\">14,879,557</span> (56.76 MB)\n",
              "</pre>\n"
            ]
          },
          "metadata": {}
        },
        {
          "output_type": "display_data",
          "data": {
            "text/plain": [
              "\u001b[1m Trainable params: \u001b[0m\u001b[38;5;34m13,734,149\u001b[0m (52.39 MB)\n"
            ],
            "text/html": [
              "<pre style=\"white-space:pre;overflow-x:auto;line-height:normal;font-family:Menlo,'DejaVu Sans Mono',consolas,'Courier New',monospace\"><span style=\"font-weight: bold\"> Trainable params: </span><span style=\"color: #00af00; text-decoration-color: #00af00\">13,734,149</span> (52.39 MB)\n",
              "</pre>\n"
            ]
          },
          "metadata": {}
        },
        {
          "output_type": "display_data",
          "data": {
            "text/plain": [
              "\u001b[1m Non-trainable params: \u001b[0m\u001b[38;5;34m1,145,408\u001b[0m (4.37 MB)\n"
            ],
            "text/html": [
              "<pre style=\"white-space:pre;overflow-x:auto;line-height:normal;font-family:Menlo,'DejaVu Sans Mono',consolas,'Courier New',monospace\"><span style=\"font-weight: bold\"> Non-trainable params: </span><span style=\"color: #00af00; text-decoration-color: #00af00\">1,145,408</span> (4.37 MB)\n",
              "</pre>\n"
            ]
          },
          "metadata": {}
        }
      ]
    },
    {
      "cell_type": "markdown",
      "source": [
        "# 🚀 Computing Class Weights, Setting Callbacks, and Training the Model\n",
        "\n"
      ],
      "metadata": {
        "id": "HEDOtxev-hr8"
      }
    },
    {
      "cell_type": "markdown",
      "source": [
        "This section improves training by:\n",
        "\n",
        "1. Balancing the classes using computed weights (important if some categories have fewer samples).\n",
        "\n",
        "2. Adding callbacks to stop training early or adjust learning rate when needed.\n",
        "\n",
        "3. Finally, it starts the model training using model.fit()."
      ],
      "metadata": {
        "id": "PfmacmMerv52"
      }
    },
    {
      "cell_type": "code",
      "source": [
        "# ⚖️ Compute class weights to handle class imbalance\n",
        "y_train = train_data.classes  # Get the actual class labels from the training data\n",
        "\n",
        "class_weights = compute_class_weight(\n",
        "    class_weight='balanced',             # Automatically compute weights to balance classes\n",
        "    classes=np.unique(y_train),          # List of unique class labels\n",
        "    y=y_train                            # Actual training labels\n",
        ")\n",
        "\n",
        "class_weights = dict(enumerate(class_weights))  # Convert weights into dictionary format: {class_index: weight}\n",
        "print(\"Class Weights:\", class_weights)          # Show the computed weights\n",
        "print(\"Class Indices:\", train_data.class_indices)  # Show how class names map to indices\n",
        "\n",
        "\n",
        "# ⏱️ Define callbacks to improve training stability and performance\n",
        "callbacks = [\n",
        "    EarlyStopping(\n",
        "        monitor='val_accuracy',        # Monitor validation accuracy\n",
        "        patience=4,                    # Stop training if it doesn't improve for 4 epochs\n",
        "        restore_best_weights=True      # Restore the weights from the best epoch\n",
        "    ),\n",
        "    ReduceLROnPlateau(\n",
        "        monitor='val_loss',            # Watch validation loss\n",
        "        factor=0.5,                    # Reduce learning rate by half if plateau is detected\n",
        "        patience=2,                    # Wait 2 epochs before reducing\n",
        "        verbose=1                      # Print when learning rate is reduced\n",
        "    )\n",
        "]\n",
        "\n",
        "\n",
        "# 🚀 Start model training\n",
        "history = model.fit(\n",
        "    train_data,                  # Training data generator\n",
        "    validation_data=val_data,    # Validation data generator\n",
        "    epochs=EPOCHS,               # Number of training epochs (e.g., 30)\n",
        "    class_weight=class_weights, # Use computed class weights for balanced learning\n",
        "    callbacks=callbacks          # Use callbacks to optimize training\n",
        ")\n"
      ],
      "metadata": {
        "colab": {
          "base_uri": "https://localhost:8080/"
        },
        "id": "aVygyJvP-ol9",
        "outputId": "fa57c5f4-22ea-4566-a814-c06625f7e555"
      },
      "execution_count": null,
      "outputs": [
        {
          "output_type": "stream",
          "name": "stdout",
          "text": [
            "Class Weights: {0: np.float64(1.2517133956386293), 1: np.float64(0.9670276774969916), 2: np.float64(0.9142207053469852), 3: np.float64(0.9970223325062034), 4: np.float64(0.9344186046511628)}\n",
            "Class Indices: {'Unknown': 0, 'cataract': 1, 'diabetic_retinopathy': 2, 'glaucoma': 3, 'normal': 4}\n"
          ]
        },
        {
          "output_type": "stream",
          "name": "stderr",
          "text": [
            "/usr/local/lib/python3.11/dist-packages/keras/src/trainers/data_adapters/py_dataset_adapter.py:121: UserWarning: Your `PyDataset` class should call `super().__init__(**kwargs)` in its constructor. `**kwargs` can include `workers`, `use_multiprocessing`, `max_queue_size`. Do not pass these arguments to `fit()`, as they will be ignored.\n",
            "  self._warn_if_super_not_called()\n"
          ]
        },
        {
          "output_type": "stream",
          "name": "stdout",
          "text": [
            "Epoch 1/30\n",
            "\u001b[1m126/126\u001b[0m \u001b[32m━━━━━━━━━━━━━━━━━━━━\u001b[0m\u001b[37m\u001b[0m \u001b[1m151s\u001b[0m 992ms/step - accuracy: 0.2769 - loss: 1.6380 - val_accuracy: 0.6663 - val_loss: 0.8846 - learning_rate: 1.0000e-05\n",
            "Epoch 2/30\n",
            "\u001b[1m126/126\u001b[0m \u001b[32m━━━━━━━━━━━━━━━━━━━━\u001b[0m\u001b[37m\u001b[0m \u001b[1m110s\u001b[0m 877ms/step - accuracy: 0.5968 - loss: 0.9401 - val_accuracy: 0.6773 - val_loss: 0.7626 - learning_rate: 1.0000e-05\n",
            "Epoch 3/30\n",
            "\u001b[1m126/126\u001b[0m \u001b[32m━━━━━━━━━━━━━━━━━━━━\u001b[0m\u001b[37m\u001b[0m \u001b[1m146s\u001b[0m 906ms/step - accuracy: 0.6708 - loss: 0.8075 - val_accuracy: 0.7303 - val_loss: 0.7148 - learning_rate: 1.0000e-05\n",
            "Epoch 4/30\n",
            "\u001b[1m126/126\u001b[0m \u001b[32m━━━━━━━━━━━━━━━━━━━━\u001b[0m\u001b[37m\u001b[0m \u001b[1m117s\u001b[0m 929ms/step - accuracy: 0.7132 - loss: 0.7081 - val_accuracy: 0.7383 - val_loss: 0.6404 - learning_rate: 1.0000e-05\n",
            "Epoch 5/30\n",
            "\u001b[1m126/126\u001b[0m \u001b[32m━━━━━━━━━━━━━━━━━━━━\u001b[0m\u001b[37m\u001b[0m \u001b[1m107s\u001b[0m 844ms/step - accuracy: 0.7427 - loss: 0.6481 - val_accuracy: 0.7702 - val_loss: 0.5859 - learning_rate: 1.0000e-05\n",
            "Epoch 6/30\n",
            "\u001b[1m126/126\u001b[0m \u001b[32m━━━━━━━━━━━━━━━━━━━━\u001b[0m\u001b[37m\u001b[0m \u001b[1m102s\u001b[0m 807ms/step - accuracy: 0.7827 - loss: 0.5640 - val_accuracy: 0.7802 - val_loss: 0.5738 - learning_rate: 1.0000e-05\n",
            "Epoch 7/30\n",
            "\u001b[1m126/126\u001b[0m \u001b[32m━━━━━━━━━━━━━━━━━━━━\u001b[0m\u001b[37m\u001b[0m \u001b[1m141s\u001b[0m 799ms/step - accuracy: 0.8167 - loss: 0.5116 - val_accuracy: 0.7712 - val_loss: 0.5624 - learning_rate: 1.0000e-05\n",
            "Epoch 8/30\n",
            "\u001b[1m126/126\u001b[0m \u001b[32m━━━━━━━━━━━━━━━━━━━━\u001b[0m\u001b[37m\u001b[0m \u001b[1m102s\u001b[0m 806ms/step - accuracy: 0.8208 - loss: 0.4929 - val_accuracy: 0.8072 - val_loss: 0.5081 - learning_rate: 1.0000e-05\n",
            "Epoch 9/30\n",
            "\u001b[1m126/126\u001b[0m \u001b[32m━━━━━━━━━━━━━━━━━━━━\u001b[0m\u001b[37m\u001b[0m \u001b[1m141s\u001b[0m 801ms/step - accuracy: 0.8259 - loss: 0.4657 - val_accuracy: 0.7872 - val_loss: 0.5463 - learning_rate: 1.0000e-05\n",
            "Epoch 10/30\n",
            "\u001b[1m126/126\u001b[0m \u001b[32m━━━━━━━━━━━━━━━━━━━━\u001b[0m\u001b[37m\u001b[0m \u001b[1m0s\u001b[0m 664ms/step - accuracy: 0.8441 - loss: 0.4387\n",
            "Epoch 10: ReduceLROnPlateau reducing learning rate to 4.999999873689376e-06.\n",
            "\u001b[1m126/126\u001b[0m \u001b[32m━━━━━━━━━━━━━━━━━━━━\u001b[0m\u001b[37m\u001b[0m \u001b[1m100s\u001b[0m 793ms/step - accuracy: 0.8441 - loss: 0.4386 - val_accuracy: 0.7612 - val_loss: 0.6113 - learning_rate: 1.0000e-05\n",
            "Epoch 11/30\n",
            "\u001b[1m126/126\u001b[0m \u001b[32m━━━━━━━━━━━━━━━━━━━━\u001b[0m\u001b[37m\u001b[0m \u001b[1m105s\u001b[0m 835ms/step - accuracy: 0.8502 - loss: 0.4140 - val_accuracy: 0.7642 - val_loss: 0.6053 - learning_rate: 5.0000e-06\n",
            "Epoch 12/30\n",
            "\u001b[1m126/126\u001b[0m \u001b[32m━━━━━━━━━━━━━━━━━━━━\u001b[0m\u001b[37m\u001b[0m \u001b[1m0s\u001b[0m 666ms/step - accuracy: 0.8574 - loss: 0.4054\n",
            "Epoch 12: ReduceLROnPlateau reducing learning rate to 2.499999936844688e-06.\n",
            "\u001b[1m126/126\u001b[0m \u001b[32m━━━━━━━━━━━━━━━━━━━━\u001b[0m\u001b[37m\u001b[0m \u001b[1m100s\u001b[0m 793ms/step - accuracy: 0.8574 - loss: 0.4054 - val_accuracy: 0.7982 - val_loss: 0.5087 - learning_rate: 5.0000e-06\n"
          ]
        }
      ]
    },
    {
      "cell_type": "markdown",
      "source": [
        "# 🔍 Making Predictions and Extracting Confidence Scores\n",
        "\n"
      ],
      "metadata": {
        "id": "E6a9oq5p-C2V"
      }
    },
    {
      "cell_type": "markdown",
      "source": [
        "This section uses the trained model to make predictions on the validation dataset. It also extracts the predicted class labels and the model’s confidence for each prediction."
      ],
      "metadata": {
        "id": "fc9Jrxw1ry3r"
      }
    },
    {
      "cell_type": "code",
      "source": [
        "# 🔍 Predict on validation set\n",
        "val_preds = model.predict(val_data)\n",
        "# Get prediction probabilities for each class on the validation dataset\n",
        "\n",
        "y_true = val_data.classes\n",
        "# True class labels from the validation data\n",
        "\n",
        "y_pred = np.argmax(val_preds, axis=1)\n",
        "# Convert prediction probabilities to class labels by selecting the index with the highest probability\n",
        "\n",
        "# 📌 Calculate confidence for each prediction\n",
        "confidences = np.max(val_preds, axis=1)\n",
        "# For each prediction, get the highest probability (i.e., model's confidence in its prediction)\n",
        "\n"
      ],
      "metadata": {
        "colab": {
          "base_uri": "https://localhost:8080/"
        },
        "id": "1qR-bwUU-BSL",
        "outputId": "6093f340-bf35-4759-bfa2-f47e6c86facb"
      },
      "execution_count": null,
      "outputs": [
        {
          "output_type": "stream",
          "name": "stdout",
          "text": [
            "\u001b[1m32/32\u001b[0m \u001b[32m━━━━━━━━━━━━━━━━━━━━\u001b[0m\u001b[37m\u001b[0m \u001b[1m17s\u001b[0m 512ms/step\n"
          ]
        }
      ]
    },
    {
      "cell_type": "markdown",
      "source": [
        "# 📊 Visualizing Model Confidence with a Boxplot\n",
        "\n",
        "\n",
        "\n"
      ],
      "metadata": {
        "id": "VjNJPAGR-FNu"
      }
    },
    {
      "cell_type": "markdown",
      "source": [
        "This block creates a boxplot to show the distribution of confidence scores for each true class label. This helps assess if the model is more or less confident depending on the disease category."
      ],
      "metadata": {
        "id": "5PLx7Ap2r0-v"
      }
    },
    {
      "cell_type": "code",
      "source": [
        "import pandas as pd  # For creating and manipulating data in tabular format\n",
        "\n",
        "\n",
        "# 📊 Create a DataFrame with true class names and their confidence scores\n",
        "true_labels = [CATEGORIES[i] for i in y_true]\n",
        "# Convert numeric labels (0, 1, 2...) back to actual class names (e.g., 'cataract')\n",
        "\n",
        "df = pd.DataFrame({\n",
        "    \"Confidence\": confidences,  # Confidence score from model (0.0 to 1.0)\n",
        "    \"Class\": true_labels        # Actual class label name\n",
        "})\n",
        "\n",
        "# 📉 Plot a boxplot of confidence scores for each class\n",
        "plt.figure(figsize=(10, 6))  # Set the figure size\n",
        "sns.boxplot(x=\"Class\", y=\"Confidence\", data=df)  # Create a boxplot grouped by class\n",
        "\n",
        "plt.title(\"Confidence Distribution by True Class\")  # Add a title to the plot\n",
        "plt.ylabel(\"Model Confidence\")                      # Label the y-axis\n",
        "plt.xticks(rotation=15)                             # Tilt x-axis labels for better readability\n",
        "plt.grid(True)                                      # Show grid lines\n",
        "plt.show()                                          # Display the plot"
      ],
      "metadata": {
        "colab": {
          "base_uri": "https://localhost:8080/",
          "height": 601
        },
        "id": "8AqtQn5M-F8-",
        "outputId": "12b5c170-5a9b-4d3f-be3a-7635cd9f2e2a"
      },
      "execution_count": null,
      "outputs": [
        {
          "output_type": "display_data",
          "data": {
            "text/plain": [
              "<Figure size 1000x600 with 1 Axes>"
            ],
            "image/png": "[encoded data removed]"
          },
          "metadata": {}
        }
      ]
    },
    {
      "cell_type": "markdown",
      "source": [
        "# 🚨 Displaying Low-Confidence Predictions\n",
        "\n"
      ],
      "metadata": {
        "id": "8V_3rIZx-Vn4"
      }
    },
    {
      "cell_type": "markdown",
      "source": [
        "This block goes through the model’s predictions and prints out cases where the prediction confidence is below 75%. These are often misclassified or ambiguous examples, so reviewing them can help improve the model."
      ],
      "metadata": {
        "id": "zVg4RVD7sAox"
      }
    },
    {
      "cell_type": "code",
      "source": [
        "# 🚨 Show predictions where the model is not confident (confidence < 75%)\n",
        "print(\"\\n⚠️ Low-confidence predictions (confidence < 0.75):\")\n",
        "\n",
        "for i in range(len(confidences)):  # Loop through each prediction\n",
        "    if confidences[i] < 0.75:      # Check if confidence is below 75%\n",
        "        print(\n",
        "            f\"Sample {i}: Predicted '{CATEGORIES[y_pred[i]]}', \"\n",
        "            f\"True '{CATEGORIES[y_true[i]]}', Confidence: {confidences[i]:.2f}\"\n",
        "        )\n",
        "        # Print the index, predicted label, true label, and confidence rounded to 2 decimals"
      ],
      "metadata": {
        "colab": {
          "base_uri": "https://localhost:8080/"
        },
        "id": "fJdi6C4e-XQZ",
        "outputId": "00114b81-380c-47a1-ac1a-2ecc4370c73c"
      },
      "execution_count": null,
      "outputs": [
        {
          "output_type": "stream",
          "name": "stdout",
          "text": [
            "\n",
            "⚠️ Low-confidence predictions (confidence < 0.75):\n",
            "Sample 45: Predicted 'cataract', True 'cataract', Confidence: 0.41\n",
            "Sample 163: Predicted 'diabetic_retinopathy', True 'diabetic_retinopathy', Confidence: 0.49\n",
            "Sample 165: Predicted 'Unknown', True 'diabetic_retinopathy', Confidence: 0.65\n",
            "Sample 166: Predicted 'Unknown', True 'diabetic_retinopathy', Confidence: 0.58\n",
            "Sample 171: Predicted 'Unknown', True 'diabetic_retinopathy', Confidence: 0.60\n",
            "Sample 173: Predicted 'diabetic_retinopathy', True 'diabetic_retinopathy', Confidence: 0.55\n",
            "Sample 174: Predicted 'normal', True 'diabetic_retinopathy', Confidence: 0.54\n",
            "Sample 176: Predicted 'diabetic_retinopathy', True 'diabetic_retinopathy', Confidence: 0.41\n",
            "Sample 177: Predicted 'normal', True 'diabetic_retinopathy', Confidence: 0.62\n",
            "Sample 180: Predicted 'Unknown', True 'diabetic_retinopathy', Confidence: 0.47\n",
            "Sample 181: Predicted 'Unknown', True 'diabetic_retinopathy', Confidence: 0.61\n",
            "Sample 182: Predicted 'normal', True 'diabetic_retinopathy', Confidence: 0.47\n",
            "Sample 184: Predicted 'Unknown', True 'diabetic_retinopathy', Confidence: 0.63\n",
            "Sample 185: Predicted 'diabetic_retinopathy', True 'diabetic_retinopathy', Confidence: 0.61\n",
            "Sample 188: Predicted 'Unknown', True 'diabetic_retinopathy', Confidence: 0.60\n",
            "Sample 190: Predicted 'Unknown', True 'diabetic_retinopathy', Confidence: 0.62\n",
            "Sample 191: Predicted 'diabetic_retinopathy', True 'diabetic_retinopathy', Confidence: 0.51\n",
            "Sample 192: Predicted 'normal', True 'diabetic_retinopathy', Confidence: 0.73\n",
            "Sample 194: Predicted 'Unknown', True 'diabetic_retinopathy', Confidence: 0.50\n",
            "Sample 195: Predicted 'Unknown', True 'diabetic_retinopathy', Confidence: 0.49\n",
            "Sample 197: Predicted 'diabetic_retinopathy', True 'diabetic_retinopathy', Confidence: 0.59\n",
            "Sample 207: Predicted 'diabetic_retinopathy', True 'diabetic_retinopathy', Confidence: 0.67\n",
            "Sample 221: Predicted 'diabetic_retinopathy', True 'diabetic_retinopathy', Confidence: 0.74\n",
            "Sample 223: Predicted 'normal', True 'diabetic_retinopathy', Confidence: 0.62\n",
            "Sample 228: Predicted 'diabetic_retinopathy', True 'diabetic_retinopathy', Confidence: 0.73\n",
            "Sample 238: Predicted 'diabetic_retinopathy', True 'diabetic_retinopathy', Confidence: 0.56\n",
            "Sample 239: Predicted 'diabetic_retinopathy', True 'diabetic_retinopathy', Confidence: 0.63\n",
            "Sample 250: Predicted 'Unknown', True 'diabetic_retinopathy', Confidence: 0.67\n",
            "Sample 251: Predicted 'Unknown', True 'diabetic_retinopathy', Confidence: 0.37\n",
            "Sample 256: Predicted 'diabetic_retinopathy', True 'diabetic_retinopathy', Confidence: 0.54\n",
            "Sample 262: Predicted 'Unknown', True 'diabetic_retinopathy', Confidence: 0.68\n",
            "Sample 273: Predicted 'normal', True 'diabetic_retinopathy', Confidence: 0.41\n",
            "Sample 302: Predicted 'diabetic_retinopathy', True 'diabetic_retinopathy', Confidence: 0.63\n",
            "Sample 317: Predicted 'diabetic_retinopathy', True 'diabetic_retinopathy', Confidence: 0.68\n",
            "Sample 331: Predicted 'diabetic_retinopathy', True 'diabetic_retinopathy', Confidence: 0.73\n",
            "Sample 332: Predicted 'glaucoma', True 'diabetic_retinopathy', Confidence: 0.37\n",
            "Sample 335: Predicted 'Unknown', True 'diabetic_retinopathy', Confidence: 0.43\n",
            "Sample 342: Predicted 'diabetic_retinopathy', True 'diabetic_retinopathy', Confidence: 0.74\n",
            "Sample 345: Predicted 'diabetic_retinopathy', True 'diabetic_retinopathy', Confidence: 0.67\n",
            "Sample 352: Predicted 'diabetic_retinopathy', True 'diabetic_retinopathy', Confidence: 0.71\n",
            "Sample 362: Predicted 'glaucoma', True 'diabetic_retinopathy', Confidence: 0.48\n",
            "Sample 363: Predicted 'diabetic_retinopathy', True 'diabetic_retinopathy', Confidence: 0.44\n",
            "Sample 364: Predicted 'diabetic_retinopathy', True 'diabetic_retinopathy', Confidence: 0.70\n",
            "Sample 365: Predicted 'diabetic_retinopathy', True 'diabetic_retinopathy', Confidence: 0.58\n",
            "Sample 381: Predicted 'Unknown', True 'glaucoma', Confidence: 0.51\n",
            "Sample 382: Predicted 'Unknown', True 'glaucoma', Confidence: 0.59\n",
            "Sample 390: Predicted 'glaucoma', True 'glaucoma', Confidence: 0.73\n",
            "Sample 405: Predicted 'glaucoma', True 'glaucoma', Confidence: 0.33\n",
            "Sample 406: Predicted 'glaucoma', True 'glaucoma', Confidence: 0.71\n",
            "Sample 421: Predicted 'diabetic_retinopathy', True 'glaucoma', Confidence: 0.41\n",
            "Sample 437: Predicted 'glaucoma', True 'glaucoma', Confidence: 0.59\n",
            "Sample 443: Predicted 'glaucoma', True 'glaucoma', Confidence: 0.69\n",
            "Sample 451: Predicted 'Unknown', True 'glaucoma', Confidence: 0.61\n",
            "Sample 463: Predicted 'glaucoma', True 'glaucoma', Confidence: 0.50\n",
            "Sample 466: Predicted 'Unknown', True 'glaucoma', Confidence: 0.73\n",
            "Sample 469: Predicted 'normal', True 'glaucoma', Confidence: 0.47\n",
            "Sample 470: Predicted 'glaucoma', True 'glaucoma', Confidence: 0.68\n",
            "Sample 474: Predicted 'normal', True 'glaucoma', Confidence: 0.47\n",
            "Sample 477: Predicted 'Unknown', True 'glaucoma', Confidence: 0.51\n",
            "Sample 478: Predicted 'Unknown', True 'glaucoma', Confidence: 0.54\n",
            "Sample 487: Predicted 'normal', True 'glaucoma', Confidence: 0.50\n",
            "Sample 492: Predicted 'glaucoma', True 'glaucoma', Confidence: 0.47\n",
            "Sample 495: Predicted 'normal', True 'glaucoma', Confidence: 0.45\n",
            "Sample 496: Predicted 'Unknown', True 'glaucoma', Confidence: 0.61\n",
            "Sample 500: Predicted 'glaucoma', True 'glaucoma', Confidence: 0.53\n",
            "Sample 501: Predicted 'glaucoma', True 'glaucoma', Confidence: 0.73\n",
            "Sample 502: Predicted 'glaucoma', True 'glaucoma', Confidence: 0.52\n",
            "Sample 506: Predicted 'glaucoma', True 'glaucoma', Confidence: 0.57\n",
            "Sample 507: Predicted 'Unknown', True 'glaucoma', Confidence: 0.50\n",
            "Sample 508: Predicted 'Unknown', True 'glaucoma', Confidence: 0.48\n",
            "Sample 514: Predicted 'Unknown', True 'glaucoma', Confidence: 0.56\n",
            "Sample 523: Predicted 'glaucoma', True 'glaucoma', Confidence: 0.60\n",
            "Sample 524: Predicted 'glaucoma', True 'glaucoma', Confidence: 0.74\n",
            "Sample 541: Predicted 'glaucoma', True 'glaucoma', Confidence: 0.69\n",
            "Sample 549: Predicted 'Unknown', True 'glaucoma', Confidence: 0.54\n",
            "Sample 552: Predicted 'glaucoma', True 'glaucoma', Confidence: 0.44\n",
            "Sample 553: Predicted 'Unknown', True 'glaucoma', Confidence: 0.36\n",
            "Sample 554: Predicted 'glaucoma', True 'glaucoma', Confidence: 0.72\n",
            "Sample 559: Predicted 'glaucoma', True 'glaucoma', Confidence: 0.73\n",
            "Sample 563: Predicted 'glaucoma', True 'glaucoma', Confidence: 0.71\n",
            "Sample 569: Predicted 'glaucoma', True 'glaucoma', Confidence: 0.44\n",
            "Sample 579: Predicted 'Unknown', True 'glaucoma', Confidence: 0.39\n",
            "Sample 580: Predicted 'glaucoma', True 'glaucoma', Confidence: 0.70\n",
            "Sample 583: Predicted 'diabetic_retinopathy', True 'glaucoma', Confidence: 0.44\n",
            "Sample 584: Predicted 'Unknown', True 'glaucoma', Confidence: 0.67\n",
            "Sample 587: Predicted 'glaucoma', True 'normal', Confidence: 0.49\n",
            "Sample 590: Predicted 'normal', True 'normal', Confidence: 0.46\n",
            "Sample 591: Predicted 'normal', True 'normal', Confidence: 0.40\n",
            "Sample 593: Predicted 'normal', True 'normal', Confidence: 0.75\n",
            "Sample 594: Predicted 'normal', True 'normal', Confidence: 0.35\n",
            "Sample 595: Predicted 'normal', True 'normal', Confidence: 0.32\n",
            "Sample 596: Predicted 'normal', True 'normal', Confidence: 0.37\n",
            "Sample 597: Predicted 'normal', True 'normal', Confidence: 0.43\n",
            "Sample 598: Predicted 'normal', True 'normal', Confidence: 0.62\n",
            "Sample 599: Predicted 'normal', True 'normal', Confidence: 0.57\n",
            "Sample 601: Predicted 'diabetic_retinopathy', True 'normal', Confidence: 0.72\n",
            "Sample 602: Predicted 'Unknown', True 'normal', Confidence: 0.68\n",
            "Sample 603: Predicted 'glaucoma', True 'normal', Confidence: 0.52\n",
            "Sample 604: Predicted 'glaucoma', True 'normal', Confidence: 0.55\n",
            "Sample 605: Predicted 'Unknown', True 'normal', Confidence: 0.61\n",
            "Sample 606: Predicted 'normal', True 'normal', Confidence: 0.60\n",
            "Sample 607: Predicted 'normal', True 'normal', Confidence: 0.74\n",
            "Sample 608: Predicted 'normal', True 'normal', Confidence: 0.56\n",
            "Sample 609: Predicted 'Unknown', True 'normal', Confidence: 0.41\n",
            "Sample 610: Predicted 'glaucoma', True 'normal', Confidence: 0.75\n",
            "Sample 611: Predicted 'normal', True 'normal', Confidence: 0.43\n",
            "Sample 613: Predicted 'normal', True 'normal', Confidence: 0.60\n",
            "Sample 614: Predicted 'diabetic_retinopathy', True 'normal', Confidence: 0.59\n",
            "Sample 615: Predicted 'normal', True 'normal', Confidence: 0.49\n",
            "Sample 616: Predicted 'Unknown', True 'normal', Confidence: 0.52\n",
            "Sample 617: Predicted 'Unknown', True 'normal', Confidence: 0.43\n",
            "Sample 618: Predicted 'Unknown', True 'normal', Confidence: 0.72\n",
            "Sample 619: Predicted 'normal', True 'normal', Confidence: 0.71\n",
            "Sample 621: Predicted 'normal', True 'normal', Confidence: 0.58\n",
            "Sample 622: Predicted 'Unknown', True 'normal', Confidence: 0.71\n",
            "Sample 626: Predicted 'Unknown', True 'normal', Confidence: 0.72\n",
            "Sample 627: Predicted 'normal', True 'normal', Confidence: 0.49\n",
            "Sample 628: Predicted 'glaucoma', True 'normal', Confidence: 0.52\n",
            "Sample 629: Predicted 'Unknown', True 'normal', Confidence: 0.40\n",
            "Sample 630: Predicted 'normal', True 'normal', Confidence: 0.67\n",
            "Sample 633: Predicted 'normal', True 'normal', Confidence: 0.73\n",
            "Sample 634: Predicted 'normal', True 'normal', Confidence: 0.65\n",
            "Sample 635: Predicted 'normal', True 'normal', Confidence: 0.73\n",
            "Sample 636: Predicted 'glaucoma', True 'normal', Confidence: 0.51\n",
            "Sample 637: Predicted 'glaucoma', True 'normal', Confidence: 0.63\n",
            "Sample 638: Predicted 'normal', True 'normal', Confidence: 0.49\n",
            "Sample 639: Predicted 'normal', True 'normal', Confidence: 0.44\n",
            "Sample 640: Predicted 'normal', True 'normal', Confidence: 0.71\n",
            "Sample 641: Predicted 'normal', True 'normal', Confidence: 0.58\n",
            "Sample 642: Predicted 'normal', True 'normal', Confidence: 0.69\n",
            "Sample 643: Predicted 'diabetic_retinopathy', True 'normal', Confidence: 0.68\n",
            "Sample 644: Predicted 'cataract', True 'normal', Confidence: 0.68\n",
            "Sample 645: Predicted 'Unknown', True 'normal', Confidence: 0.52\n",
            "Sample 646: Predicted 'Unknown', True 'normal', Confidence: 0.45\n",
            "Sample 647: Predicted 'glaucoma', True 'normal', Confidence: 0.39\n",
            "Sample 650: Predicted 'diabetic_retinopathy', True 'normal', Confidence: 0.53\n",
            "Sample 652: Predicted 'glaucoma', True 'normal', Confidence: 0.48\n",
            "Sample 653: Predicted 'glaucoma', True 'normal', Confidence: 0.68\n",
            "Sample 658: Predicted 'glaucoma', True 'normal', Confidence: 0.66\n",
            "Sample 659: Predicted 'normal', True 'normal', Confidence: 0.64\n",
            "Sample 660: Predicted 'normal', True 'normal', Confidence: 0.58\n",
            "Sample 661: Predicted 'normal', True 'normal', Confidence: 0.48\n",
            "Sample 663: Predicted 'normal', True 'normal', Confidence: 0.66\n",
            "Sample 664: Predicted 'normal', True 'normal', Confidence: 0.73\n",
            "Sample 665: Predicted 'glaucoma', True 'normal', Confidence: 0.49\n",
            "Sample 666: Predicted 'diabetic_retinopathy', True 'normal', Confidence: 0.56\n",
            "Sample 667: Predicted 'normal', True 'normal', Confidence: 0.72\n",
            "Sample 668: Predicted 'normal', True 'normal', Confidence: 0.72\n",
            "Sample 670: Predicted 'Unknown', True 'normal', Confidence: 0.53\n",
            "Sample 671: Predicted 'Unknown', True 'normal', Confidence: 0.35\n",
            "Sample 674: Predicted 'glaucoma', True 'normal', Confidence: 0.43\n",
            "Sample 675: Predicted 'normal', True 'normal', Confidence: 0.46\n",
            "Sample 676: Predicted 'normal', True 'normal', Confidence: 0.69\n",
            "Sample 677: Predicted 'normal', True 'normal', Confidence: 0.49\n",
            "Sample 683: Predicted 'normal', True 'normal', Confidence: 0.73\n",
            "Sample 685: Predicted 'normal', True 'normal', Confidence: 0.73\n",
            "Sample 686: Predicted 'Unknown', True 'normal', Confidence: 0.52\n",
            "Sample 688: Predicted 'Unknown', True 'normal', Confidence: 0.49\n",
            "Sample 689: Predicted 'Unknown', True 'normal', Confidence: 0.62\n",
            "Sample 690: Predicted 'normal', True 'normal', Confidence: 0.58\n",
            "Sample 692: Predicted 'Unknown', True 'normal', Confidence: 0.69\n",
            "Sample 695: Predicted 'Unknown', True 'normal', Confidence: 0.71\n",
            "Sample 696: Predicted 'normal', True 'normal', Confidence: 0.63\n",
            "Sample 697: Predicted 'glaucoma', True 'normal', Confidence: 0.46\n",
            "Sample 700: Predicted 'Unknown', True 'normal', Confidence: 0.47\n",
            "Sample 703: Predicted 'normal', True 'normal', Confidence: 0.37\n",
            "Sample 704: Predicted 'Unknown', True 'normal', Confidence: 0.49\n",
            "Sample 705: Predicted 'normal', True 'normal', Confidence: 0.59\n",
            "Sample 706: Predicted 'normal', True 'normal', Confidence: 0.66\n",
            "Sample 707: Predicted 'Unknown', True 'normal', Confidence: 0.52\n",
            "Sample 709: Predicted 'diabetic_retinopathy', True 'normal', Confidence: 0.57\n",
            "Sample 710: Predicted 'Unknown', True 'normal', Confidence: 0.70\n",
            "Sample 712: Predicted 'normal', True 'normal', Confidence: 0.59\n",
            "Sample 713: Predicted 'normal', True 'normal', Confidence: 0.56\n",
            "Sample 714: Predicted 'normal', True 'normal', Confidence: 0.68\n",
            "Sample 717: Predicted 'Unknown', True 'normal', Confidence: 0.45\n",
            "Sample 719: Predicted 'normal', True 'normal', Confidence: 0.61\n",
            "Sample 720: Predicted 'Unknown', True 'normal', Confidence: 0.46\n",
            "Sample 721: Predicted 'Unknown', True 'normal', Confidence: 0.65\n",
            "Sample 722: Predicted 'Unknown', True 'normal', Confidence: 0.66\n",
            "Sample 723: Predicted 'normal', True 'normal', Confidence: 0.64\n",
            "Sample 724: Predicted 'glaucoma', True 'normal', Confidence: 0.43\n",
            "Sample 728: Predicted 'normal', True 'normal', Confidence: 0.51\n",
            "Sample 729: Predicted 'normal', True 'normal', Confidence: 0.54\n",
            "Sample 731: Predicted 'Unknown', True 'normal', Confidence: 0.61\n",
            "Sample 732: Predicted 'Unknown', True 'normal', Confidence: 0.51\n",
            "Sample 733: Predicted 'Unknown', True 'normal', Confidence: 0.74\n",
            "Sample 734: Predicted 'glaucoma', True 'normal', Confidence: 0.42\n",
            "Sample 735: Predicted 'Unknown', True 'normal', Confidence: 0.46\n",
            "Sample 736: Predicted 'Unknown', True 'normal', Confidence: 0.72\n",
            "Sample 738: Predicted 'Unknown', True 'normal', Confidence: 0.41\n",
            "Sample 739: Predicted 'normal', True 'normal', Confidence: 0.50\n",
            "Sample 740: Predicted 'normal', True 'normal', Confidence: 0.67\n",
            "Sample 742: Predicted 'glaucoma', True 'normal', Confidence: 0.72\n",
            "Sample 743: Predicted 'Unknown', True 'normal', Confidence: 0.47\n",
            "Sample 744: Predicted 'normal', True 'normal', Confidence: 0.73\n",
            "Sample 745: Predicted 'normal', True 'normal', Confidence: 0.47\n",
            "Sample 746: Predicted 'normal', True 'normal', Confidence: 0.73\n",
            "Sample 748: Predicted 'normal', True 'normal', Confidence: 0.44\n",
            "Sample 750: Predicted 'normal', True 'normal', Confidence: 0.51\n",
            "Sample 752: Predicted 'normal', True 'normal', Confidence: 0.51\n",
            "Sample 754: Predicted 'Unknown', True 'normal', Confidence: 0.43\n",
            "Sample 755: Predicted 'diabetic_retinopathy', True 'normal', Confidence: 0.47\n",
            "Sample 756: Predicted 'normal', True 'normal', Confidence: 0.67\n",
            "Sample 757: Predicted 'normal', True 'normal', Confidence: 0.68\n",
            "Sample 758: Predicted 'Unknown', True 'normal', Confidence: 0.45\n",
            "Sample 761: Predicted 'diabetic_retinopathy', True 'normal', Confidence: 0.47\n",
            "Sample 763: Predicted 'Unknown', True 'normal', Confidence: 0.60\n",
            "Sample 765: Predicted 'normal', True 'normal', Confidence: 0.59\n",
            "Sample 767: Predicted 'normal', True 'normal', Confidence: 0.54\n",
            "Sample 768: Predicted 'glaucoma', True 'normal', Confidence: 0.70\n",
            "Sample 769: Predicted 'Unknown', True 'normal', Confidence: 0.58\n",
            "Sample 770: Predicted 'normal', True 'normal', Confidence: 0.50\n",
            "Sample 771: Predicted 'normal', True 'normal', Confidence: 0.59\n",
            "Sample 773: Predicted 'Unknown', True 'normal', Confidence: 0.40\n",
            "Sample 774: Predicted 'Unknown', True 'normal', Confidence: 0.39\n",
            "Sample 775: Predicted 'normal', True 'normal', Confidence: 0.51\n",
            "Sample 776: Predicted 'normal', True 'normal', Confidence: 0.69\n",
            "Sample 778: Predicted 'normal', True 'normal', Confidence: 0.59\n",
            "Sample 779: Predicted 'normal', True 'normal', Confidence: 0.67\n",
            "Sample 780: Predicted 'Unknown', True 'normal', Confidence: 0.47\n",
            "Sample 781: Predicted 'Unknown', True 'normal', Confidence: 0.53\n",
            "Sample 782: Predicted 'Unknown', True 'normal', Confidence: 0.44\n",
            "Sample 783: Predicted 'diabetic_retinopathy', True 'normal', Confidence: 0.62\n",
            "Sample 784: Predicted 'Unknown', True 'normal', Confidence: 0.62\n",
            "Sample 785: Predicted 'normal', True 'normal', Confidence: 0.53\n",
            "Sample 786: Predicted 'normal', True 'normal', Confidence: 0.34\n",
            "Sample 787: Predicted 'Unknown', True 'Unknown', Confidence: 0.55\n",
            "Sample 788: Predicted 'Unknown', True 'Unknown', Confidence: 0.73\n",
            "Sample 789: Predicted 'Unknown', True 'Unknown', Confidence: 0.52\n",
            "Sample 790: Predicted 'Unknown', True 'Unknown', Confidence: 0.65\n",
            "Sample 792: Predicted 'normal', True 'Unknown', Confidence: 0.74\n",
            "Sample 794: Predicted 'Unknown', True 'Unknown', Confidence: 0.64\n",
            "Sample 797: Predicted 'Unknown', True 'Unknown', Confidence: 0.49\n",
            "Sample 798: Predicted 'normal', True 'Unknown', Confidence: 0.50\n",
            "Sample 800: Predicted 'Unknown', True 'Unknown', Confidence: 0.72\n",
            "Sample 802: Predicted 'diabetic_retinopathy', True 'Unknown', Confidence: 0.58\n",
            "Sample 803: Predicted 'Unknown', True 'Unknown', Confidence: 0.51\n",
            "Sample 807: Predicted 'normal', True 'Unknown', Confidence: 0.44\n",
            "Sample 808: Predicted 'normal', True 'Unknown', Confidence: 0.70\n",
            "Sample 811: Predicted 'Unknown', True 'Unknown', Confidence: 0.46\n",
            "Sample 813: Predicted 'Unknown', True 'Unknown', Confidence: 0.61\n",
            "Sample 817: Predicted 'normal', True 'Unknown', Confidence: 0.56\n",
            "Sample 818: Predicted 'glaucoma', True 'Unknown', Confidence: 0.45\n",
            "Sample 819: Predicted 'normal', True 'Unknown', Confidence: 0.52\n",
            "Sample 820: Predicted 'normal', True 'Unknown', Confidence: 0.65\n",
            "Sample 821: Predicted 'Unknown', True 'Unknown', Confidence: 0.69\n",
            "Sample 822: Predicted 'Unknown', True 'Unknown', Confidence: 0.74\n",
            "Sample 823: Predicted 'Unknown', True 'Unknown', Confidence: 0.66\n",
            "Sample 824: Predicted 'glaucoma', True 'Unknown', Confidence: 0.50\n",
            "Sample 826: Predicted 'Unknown', True 'Unknown', Confidence: 0.73\n",
            "Sample 827: Predicted 'Unknown', True 'Unknown', Confidence: 0.59\n",
            "Sample 828: Predicted 'Unknown', True 'Unknown', Confidence: 0.72\n",
            "Sample 830: Predicted 'glaucoma', True 'Unknown', Confidence: 0.39\n",
            "Sample 831: Predicted 'diabetic_retinopathy', True 'Unknown', Confidence: 0.48\n",
            "Sample 832: Predicted 'Unknown', True 'Unknown', Confidence: 0.50\n",
            "Sample 833: Predicted 'Unknown', True 'Unknown', Confidence: 0.65\n",
            "Sample 834: Predicted 'normal', True 'Unknown', Confidence: 0.51\n",
            "Sample 837: Predicted 'normal', True 'Unknown', Confidence: 0.33\n",
            "Sample 838: Predicted 'normal', True 'Unknown', Confidence: 0.66\n",
            "Sample 839: Predicted 'Unknown', True 'Unknown', Confidence: 0.57\n",
            "Sample 840: Predicted 'normal', True 'Unknown', Confidence: 0.46\n",
            "Sample 841: Predicted 'Unknown', True 'Unknown', Confidence: 0.55\n",
            "Sample 843: Predicted 'Unknown', True 'Unknown', Confidence: 0.55\n",
            "Sample 846: Predicted 'Unknown', True 'Unknown', Confidence: 0.41\n",
            "Sample 847: Predicted 'Unknown', True 'Unknown', Confidence: 0.47\n",
            "Sample 848: Predicted 'Unknown', True 'Unknown', Confidence: 0.54\n",
            "Sample 849: Predicted 'normal', True 'Unknown', Confidence: 0.62\n",
            "Sample 850: Predicted 'Unknown', True 'Unknown', Confidence: 0.65\n",
            "Sample 851: Predicted 'Unknown', True 'Unknown', Confidence: 0.48\n",
            "Sample 852: Predicted 'Unknown', True 'Unknown', Confidence: 0.68\n",
            "Sample 854: Predicted 'normal', True 'Unknown', Confidence: 0.45\n",
            "Sample 855: Predicted 'Unknown', True 'Unknown', Confidence: 0.73\n",
            "Sample 856: Predicted 'Unknown', True 'Unknown', Confidence: 0.56\n",
            "Sample 857: Predicted 'Unknown', True 'Unknown', Confidence: 0.68\n",
            "Sample 861: Predicted 'normal', True 'Unknown', Confidence: 0.40\n",
            "Sample 863: Predicted 'Unknown', True 'Unknown', Confidence: 0.53\n",
            "Sample 866: Predicted 'glaucoma', True 'Unknown', Confidence: 0.63\n",
            "Sample 871: Predicted 'Unknown', True 'Unknown', Confidence: 0.47\n",
            "Sample 873: Predicted 'glaucoma', True 'Unknown', Confidence: 0.64\n",
            "Sample 875: Predicted 'Unknown', True 'Unknown', Confidence: 0.67\n",
            "Sample 877: Predicted 'Unknown', True 'Unknown', Confidence: 0.69\n",
            "Sample 878: Predicted 'Unknown', True 'Unknown', Confidence: 0.71\n",
            "Sample 881: Predicted 'diabetic_retinopathy', True 'Unknown', Confidence: 0.64\n",
            "Sample 882: Predicted 'Unknown', True 'Unknown', Confidence: 0.50\n",
            "Sample 883: Predicted 'Unknown', True 'Unknown', Confidence: 0.69\n",
            "Sample 892: Predicted 'Unknown', True 'Unknown', Confidence: 0.63\n",
            "Sample 893: Predicted 'normal', True 'Unknown', Confidence: 0.56\n",
            "Sample 896: Predicted 'glaucoma', True 'Unknown', Confidence: 0.66\n",
            "Sample 897: Predicted 'glaucoma', True 'Unknown', Confidence: 0.45\n",
            "Sample 898: Predicted 'Unknown', True 'Unknown', Confidence: 0.45\n",
            "Sample 899: Predicted 'Unknown', True 'Unknown', Confidence: 0.51\n",
            "Sample 901: Predicted 'Unknown', True 'Unknown', Confidence: 0.45\n",
            "Sample 904: Predicted 'Unknown', True 'Unknown', Confidence: 0.70\n",
            "Sample 906: Predicted 'normal', True 'Unknown', Confidence: 0.55\n",
            "Sample 907: Predicted 'Unknown', True 'Unknown', Confidence: 0.53\n",
            "Sample 909: Predicted 'Unknown', True 'Unknown', Confidence: 0.48\n",
            "Sample 910: Predicted 'Unknown', True 'Unknown', Confidence: 0.62\n",
            "Sample 911: Predicted 'normal', True 'Unknown', Confidence: 0.36\n",
            "Sample 912: Predicted 'normal', True 'Unknown', Confidence: 0.74\n",
            "Sample 915: Predicted 'glaucoma', True 'Unknown', Confidence: 0.48\n",
            "Sample 916: Predicted 'Unknown', True 'Unknown', Confidence: 0.70\n",
            "Sample 917: Predicted 'Unknown', True 'Unknown', Confidence: 0.56\n",
            "Sample 918: Predicted 'normal', True 'Unknown', Confidence: 0.73\n",
            "Sample 919: Predicted 'Unknown', True 'Unknown', Confidence: 0.56\n",
            "Sample 924: Predicted 'Unknown', True 'Unknown', Confidence: 0.61\n",
            "Sample 928: Predicted 'normal', True 'Unknown', Confidence: 0.43\n",
            "Sample 933: Predicted 'Unknown', True 'Unknown', Confidence: 0.51\n",
            "Sample 934: Predicted 'Unknown', True 'Unknown', Confidence: 0.52\n",
            "Sample 935: Predicted 'Unknown', True 'Unknown', Confidence: 0.46\n",
            "Sample 936: Predicted 'Unknown', True 'Unknown', Confidence: 0.73\n",
            "Sample 938: Predicted 'Unknown', True 'Unknown', Confidence: 0.51\n",
            "Sample 939: Predicted 'normal', True 'Unknown', Confidence: 0.53\n",
            "Sample 940: Predicted 'glaucoma', True 'Unknown', Confidence: 0.47\n",
            "Sample 941: Predicted 'Unknown', True 'Unknown', Confidence: 0.61\n",
            "Sample 944: Predicted 'glaucoma', True 'Unknown', Confidence: 0.62\n",
            "Sample 945: Predicted 'Unknown', True 'Unknown', Confidence: 0.49\n",
            "Sample 946: Predicted 'normal', True 'Unknown', Confidence: 0.60\n",
            "Sample 947: Predicted 'Unknown', True 'Unknown', Confidence: 0.68\n",
            "Sample 950: Predicted 'glaucoma', True 'Unknown', Confidence: 0.59\n",
            "Sample 953: Predicted 'Unknown', True 'Unknown', Confidence: 0.45\n",
            "Sample 960: Predicted 'Unknown', True 'Unknown', Confidence: 0.60\n",
            "Sample 961: Predicted 'Unknown', True 'Unknown', Confidence: 0.37\n",
            "Sample 962: Predicted 'Unknown', True 'Unknown', Confidence: 0.56\n",
            "Sample 963: Predicted 'Unknown', True 'Unknown', Confidence: 0.40\n",
            "Sample 964: Predicted 'Unknown', True 'Unknown', Confidence: 0.60\n",
            "Sample 965: Predicted 'Unknown', True 'Unknown', Confidence: 0.57\n",
            "Sample 966: Predicted 'diabetic_retinopathy', True 'Unknown', Confidence: 0.42\n",
            "Sample 968: Predicted 'normal', True 'Unknown', Confidence: 0.70\n",
            "Sample 969: Predicted 'Unknown', True 'Unknown', Confidence: 0.52\n",
            "Sample 970: Predicted 'Unknown', True 'Unknown', Confidence: 0.74\n",
            "Sample 971: Predicted 'normal', True 'Unknown', Confidence: 0.38\n",
            "Sample 972: Predicted 'Unknown', True 'Unknown', Confidence: 0.57\n",
            "Sample 976: Predicted 'Unknown', True 'Unknown', Confidence: 0.70\n",
            "Sample 977: Predicted 'glaucoma', True 'Unknown', Confidence: 0.46\n",
            "Sample 979: Predicted 'Unknown', True 'Unknown', Confidence: 0.50\n",
            "Sample 980: Predicted 'Unknown', True 'Unknown', Confidence: 0.67\n",
            "Sample 984: Predicted 'Unknown', True 'Unknown', Confidence: 0.71\n",
            "Sample 988: Predicted 'glaucoma', True 'Unknown', Confidence: 0.44\n",
            "Sample 990: Predicted 'Unknown', True 'Unknown', Confidence: 0.69\n",
            "Sample 994: Predicted 'Unknown', True 'Unknown', Confidence: 0.69\n",
            "Sample 997: Predicted 'Unknown', True 'Unknown', Confidence: 0.52\n",
            "Sample 999: Predicted 'normal', True 'Unknown', Confidence: 0.43\n",
            "Sample 1000: Predicted 'normal', True 'Unknown', Confidence: 0.58\n"
          ]
        }
      ]
    },
    {
      "cell_type": "markdown",
      "source": [
        "# 📊 Plotting a Histogram of Prediction Confidence\n",
        "\n"
      ],
      "metadata": {
        "id": "2rZlbYsr-b60"
      }
    },
    {
      "cell_type": "markdown",
      "source": [
        "This section draws a histogram showing how confident the model is when making predictions on the validation set. It also marks a confidence threshold line at 0.75, helping you spot how many predictions fall below it (i.e., low-confidence predictions)."
      ],
      "metadata": {
        "id": "UgyZqLJUsD8r"
      }
    },
    {
      "cell_type": "code",
      "source": [
        "# 📊 Plot a histogram of confidence scores\n",
        "plt.figure(figsize=(8, 5))  # Set the figure size\n",
        "\n",
        "plt.hist(confidences, bins=30, color=\"skyblue\", edgecolor=\"black\")\n",
        "# Plot the histogram using 30 bins; sky-blue bars with black edges for visibility\n",
        "\n",
        "plt.title(\"Histogram of Model Confidence on Validation Set\")  # Title of the plot\n",
        "plt.xlabel(\"Confidence\")  # X-axis label\n",
        "plt.ylabel(\"Number of Samples\")  # Y-axis label\n",
        "plt.axvline(0.75, color='red', linestyle='--', label=\"Threshold (0.75)\")\n",
        "# Add a vertical dashed red line at confidence = 0.75 to highlight the low-confidence cutoff\n",
        "\n",
        "plt.legend()  # Show the legend explaining the red line\n",
        "plt.grid(True)  # Add gridlines for better readability\n",
        "plt.show()  # Display the plot\n"
      ],
      "metadata": {
        "colab": {
          "base_uri": "https://localhost:8080/",
          "height": 487
        },
        "id": "PiUnJ4YQ-dOq",
        "outputId": "fe2a53bc-346d-454e-e51a-736d1af77387"
      },
      "execution_count": null,
      "outputs": [
        {
          "output_type": "display_data",
          "data": {
            "text/plain": [
              "<Figure size 800x500 with 1 Axes>"
            ],
            "image/png": "[encoded data removed]"
          },
          "metadata": {}
        }
      ]
    },
    {
      "cell_type": "markdown",
      "source": [
        "# 🧪 Evaluating the Model with a Classification Report\n",
        "\n"
      ],
      "metadata": {
        "id": "xe2KuqJn-ql6"
      }
    },
    {
      "cell_type": "markdown",
      "source": [
        "This section reuses predictions from the model on the validation set and prints out a classification report, which shows how well the model performed on each class. It's a standard, detailed way to evaluate multi-class classifiers."
      ],
      "metadata": {
        "id": "m_MHTpBysGxJ"
      }
    },
    {
      "cell_type": "code",
      "source": [
        "# 📊 Re-run predictions on the validation data\n",
        "val_preds = model.predict(val_data)  # Get class probabilities for each validation sample\n",
        "\n",
        "y_true = val_data.classes            # Actual labels from the validation set\n",
        "y_pred = np.argmax(val_preds, axis=1)  # Convert predicted probabilities into class labels\n",
        "\n",
        "# 📋 Print classification report with precision, recall, F1-score, and support for each class\n",
        "print(\"\\nClassification Report:\\n\")\n",
        "print(classification_report(\n",
        "    y_true,\n",
        "    y_pred,\n",
        "    target_names=list(train_data.class_indices.keys())  # Map class indices back to class names\n",
        "))\n"
      ],
      "metadata": {
        "colab": {
          "base_uri": "https://localhost:8080/"
        },
        "id": "NXjw91Kq-sQX",
        "outputId": "8cb6fa98-bf8a-4d47-a2ba-9600de6e49be"
      },
      "execution_count": null,
      "outputs": [
        {
          "output_type": "stream",
          "name": "stdout",
          "text": [
            "\u001b[1m32/32\u001b[0m \u001b[32m━━━━━━━━━━━━━━━━━━━━\u001b[0m\u001b[37m\u001b[0m \u001b[1m16s\u001b[0m 491ms/step\n",
            "\n",
            "Classification Report:\n",
            "\n",
            "                      precision    recall  f1-score   support\n",
            "\n",
            "             Unknown       0.99      0.99      0.99       160\n",
            "            cataract       0.87      0.86      0.87       207\n",
            "diabetic_retinopathy       0.84      0.88      0.86       219\n",
            "            glaucoma       0.71      0.59      0.64       201\n",
            "              normal       0.68      0.75      0.71       214\n",
            "\n",
            "            accuracy                           0.81      1001\n",
            "           macro avg       0.82      0.82      0.81      1001\n",
            "        weighted avg       0.81      0.81      0.81      1001\n",
            "\n"
          ]
        }
      ]
    },
    {
      "cell_type": "markdown",
      "source": [
        "# 🔍 Visualizing Model Performance with a Confusion Matrix\n",
        "\n"
      ],
      "metadata": {
        "id": "fV6pV_Ez-wuv"
      }
    },
    {
      "cell_type": "markdown",
      "source": [
        "This section computes and displays a normalized confusion matrix, which shows how many predictions were correct or incorrect for each class. Normalization helps by converting raw counts into percentages, making the matrix easier to interpret across imbalanced classes."
      ],
      "metadata": {
        "id": "k6r0w3uKsJfR"
      }
    },
    {
      "cell_type": "code",
      "source": [
        "cm = confusion_matrix(y_true, y_pred)  # Generate a confusion matrix: rows = true classes, columns = predicted classes\n",
        "\n",
        "plt.figure(figsize=(8, 6))  # Set the figure size\n",
        "\n",
        "# Normalize the confusion matrix by dividing each row by the sum of that row\n",
        "cm_normalized = cm.astype('float') / cm.sum(axis=1)[:, np.newaxis]\n",
        "\n",
        "# Create a heatmap of the normalized confusion matrix\n",
        "sns.heatmap(\n",
        "    cm_normalized,\n",
        "    annot=True,               # Show values inside cells\n",
        "    fmt='.2f',                # Format numbers to 2 decimal places\n",
        "    cmap='Blues',             # Use blue color shades\n",
        "    xticklabels=CATEGORIES,   # Class names for predicted values\n",
        "    yticklabels=CATEGORIES    # Class names for true values\n",
        ")\n",
        "plt.xlabel(\"Predicted\")       # X-axis label\n",
        "plt.ylabel(\"True\")            # Y-axis label\n",
        "plt.title(\"Confusion Matrix\") # Plot title\n",
        "plt.tight_layout()            # Adjust layout to fit everything nicely\n",
        "plt.show()                    # Display the plot\n"
      ],
      "metadata": {
        "colab": {
          "base_uri": "https://localhost:8080/",
          "height": 607
        },
        "id": "12gdpbxj-yI9",
        "outputId": "947bbabe-7ae6-46b7-f8db-40bf55314198"
      },
      "execution_count": null,
      "outputs": [
        {
          "output_type": "display_data",
          "data": {
            "text/plain": [
              "<Figure size 800x600 with 2 Axes>"
            ],
            "image/png": "[encoded data removed]"
          },
          "metadata": {}
        }
      ]
    },
    {
      "cell_type": "markdown",
      "source": [
        "# 📈 Plotting Training vs. Validation Accuracy\n",
        "\n"
      ],
      "metadata": {
        "id": "GhbBmitVBl0k"
      }
    },
    {
      "cell_type": "markdown",
      "source": [
        "This plot shows how the model’s accuracy evolved during each training epoch. By comparing training and validation accuracy, you can check for signs of overfitting (e.g., when validation accuracy flattens or drops while training accuracy keeps rising)."
      ],
      "metadata": {
        "id": "iPdkLTxdsMYy"
      }
    },
    {
      "cell_type": "code",
      "source": [
        "plt.figure(figsize=(8, 5))  # Set the size of the plot\n",
        "\n",
        "# Plot training and validation accuracy curves\n",
        "plt.plot(history.history['accuracy'], label='Train Accuracy')       # Accuracy on training data\n",
        "plt.plot(history.history['val_accuracy'], label='Val Accuracy')     # Accuracy on validation data\n",
        "\n",
        "plt.title(\"Training vs Validation Accuracy\")  # Title of the plot\n",
        "plt.xlabel(\"Epochs\")                          # X-axis: number of epochs\n",
        "plt.ylabel(\"Accuracy\")                        # Y-axis: accuracy score\n",
        "plt.legend()                                  # Show the legend to distinguish lines\n",
        "plt.grid(True)                                # Add grid lines for better readability\n",
        "plt.show()                                    # Display the plot\n",
        "\n"
      ],
      "metadata": {
        "colab": {
          "base_uri": "https://localhost:8080/",
          "height": 487
        },
        "id": "JXKoUSdRBonl",
        "outputId": "8dae2df1-1aec-40af-f569-9cfbe6c9a94b"
      },
      "execution_count": null,
      "outputs": [
        {
          "output_type": "display_data",
          "data": {
            "text/plain": [
              "<Figure size 800x500 with 1 Axes>"
            ],
            "image/png": "[encoded data removed]"
          },
          "metadata": {}
        }
      ]
    },
    {
      "cell_type": "markdown",
      "source": [
        "# 💾 Saving the Trained Model\n",
        "\n"
      ],
      "metadata": {
        "id": "Mt-ooe6y-0IK"
      }
    },
    {
      "cell_type": "markdown",
      "source": [
        "After training is complete, the model is saved to disk in .h5 format using model.save(). This is important for:\n",
        "\n",
        "* ✅ Reusability: You can reload the model later for predictions without retraining.\n",
        "\n",
        "* ✅ Fine-tuning: If needed, you can continue training from the saved model.\n",
        "\n",
        "* ✅ Deployment: The .h5 file can be loaded in a Flask web app (or any other Python backend) to serve real-time predictions via an API or web interface.\n",
        "\n",
        "This makes it ideal for integrating deep learning into production environments or user-facing applications."
      ],
      "metadata": {
        "id": "I_XmG0ICsPDx"
      }
    },
    {
      "cell_type": "code",
      "source": [
        "os.makedirs(\"models\", exist_ok=True)\n",
        "# Create a 'models' folder to store the trained model\n",
        "\n",
        "model.save(\"models/eye_disease_model.h5\")\n",
        "# Save the complete model — including architecture, weights, and training config\n",
        "# Can be loaded later with tf.keras.models.load_model()\n"
      ],
      "metadata": {
        "id": "tzt6_wKD-2-_",
        "colab": {
          "base_uri": "https://localhost:8080/"
        },
        "outputId": "32e367ff-eeb0-4e82-9e55-3d647835ad5f"
      },
      "execution_count": null,
      "outputs": [
        {
          "output_type": "stream",
          "name": "stderr",
          "text": [
            "WARNING:absl:You are saving your model as an HDF5 file via `model.save()` or `keras.saving.save_model(model)`. This file format is considered legacy. We recommend using instead the native Keras format, e.g. `model.save('my_model.keras')` or `keras.saving.save_model(model, 'my_model.keras')`. \n"
          ]
        }
      ]
    },
    {
      "cell_type": "markdown",
      "source": [
        "# Downloading the Model from Colab\n",
        "\n"
      ],
      "metadata": {
        "id": "5RpTiF2TrIQU"
      }
    },
    {
      "cell_type": "markdown",
      "source": [
        "This line allows you to download the .h5 file (your trained model) directly from the Google Colab environment to your computer. This is useful for:\n",
        "\n",
        "* Keeping a backup\n",
        "\n",
        "* Using the model offline\n",
        "\n",
        "* Uploading it to a server for deployment (e.g., in a Flask web app)"
      ],
      "metadata": {
        "id": "Vz54X4KqsRKD"
      }
    },
    {
      "cell_type": "code",
      "source": [
        "from google.colab import files  # Colab-specific utility for file download\n",
        "\n",
        "files.download(\"models/eye_disease_model.h5\")  # Triggers download of the saved model file to your local device\n"
      ],
      "metadata": {
        "colab": {
          "base_uri": "https://localhost:8080/",
          "height": 17
        },
        "id": "Zlt0_P0nTWGw",
        "outputId": "5ff0a621-4668-4cdf-f164-f28af27b30b5"
      },
      "execution_count": null,
      "outputs": [
        {
          "output_type": "display_data",
          "data": {
            "text/plain": [
              "<IPython.core.display.Javascript object>"
            ],
            "application/javascript": [
              "\n",
              "    async function download(id, filename, size) {\n",
              "      if (!google.colab.kernel.accessAllowed) {\n",
              "        return;\n",
              "      }\n",
              "      const div = document.createElement('div');\n",
              "      const label = document.createElement('label');\n",
              "      label.textContent = `Downloading \"${filename}\": `;\n",
              "      div.appendChild(label);\n",
              "      const progress = document.createElement('progress');\n",
              "      progress.max = size;\n",
              "      div.appendChild(progress);\n",
              "      document.body.appendChild(div);\n",
              "\n",
              "      const buffers = [];\n",
              "      let downloaded = 0;\n",
              "\n",
              "      const channel = await google.colab.kernel.comms.open(id);\n",
              "      // Send a message to notify the kernel that we're ready.\n",
              "      channel.send({})\n",
              "\n",
              "      for await (const message of channel.messages) {\n",
              "        // Send a message to notify the kernel that we're ready.\n",
              "        channel.send({})\n",
              "        if (message.buffers) {\n",
              "          for (const buffer of message.buffers) {\n",
              "            buffers.push(buffer);\n",
              "            downloaded += buffer.byteLength;\n",
              "            progress.value = downloaded;\n",
              "          }\n",
              "        }\n",
              "      }\n",
              "      const blob = new Blob(buffers, {type: 'application/binary'});\n",
              "      const a = document.createElement('a');\n",
              "      a.href = window.URL.createObjectURL(blob);\n",
              "      a.download = filename;\n",
              "      div.appendChild(a);\n",
              "      a.click();\n",
              "      div.remove();\n",
              "    }\n",
              "  "
            ]
          },
          "metadata": {}
        },
        {
          "output_type": "display_data",
          "data": {
            "text/plain": [
              "<IPython.core.display.Javascript object>"
            ],
            "application/javascript": [
              "download(\"download_47ae951a-0c38-4cc5-9cf2-4e7da91e86bf\", \"eye_disease_model.h5\", 169508672)"
            ]
          },
          "metadata": {}
        }
      ]
    }
  ]
}